{
  "cells": [
    {
      "cell_type": "markdown",
      "metadata": {
        "id": "_sI_YZVwDcEf"
      },
      "source": [
        "# WIPO 2024"
      ]
    },
    {
      "cell_type": "markdown",
      "metadata": {
        "id": "RWf-Z6zlDcEg"
      },
      "source": [
        "## Data Cleaning"
      ]
    },
    {
      "cell_type": "code",
      "execution_count": 1,
      "metadata": {
        "id": "Zbe9agHVDcEg"
      },
      "outputs": [],
      "source": [
        "import numpy as np\n",
        "import pandas as pd\n",
        "import seaborn as sns\n",
        "import matplotlib.pyplot as plt\n",
        "from sklearn.model_selection import train_test_split\n",
        "from sklearn.linear_model import LinearRegression\n",
        "from sklearn.metrics import mean_absolute_error, mean_squared_error, r2_score\n",
        "from sklearn.model_selection import GridSearchCV\n",
        "from sklearn.linear_model import Lasso\n",
        "from sklearn.ensemble import RandomForestRegressor\n",
        "from xgboost import XGBRegressor\n",
        "from sklearn.preprocessing import StandardScaler"
      ]
    },
    {
      "cell_type": "code",
      "execution_count": 2,
      "metadata": {
        "colab": {
          "base_uri": "https://localhost:8080/",
          "height": 314
        },
        "id": "gzJG6BrIDcEg",
        "outputId": "4f2a0d9a-8d3c-49d3-8bc7-aeb8e02fabb6"
      },
      "outputs": [],
      "source": [
        "xls = pd.ExcelFile('wipo-pub-2000-2024-tech1.xlsx')\n",
        "df = pd.read_excel(xls, 'Data')"
      ]
    },
    {
      "cell_type": "code",
      "execution_count": 3,
      "metadata": {
        "id": "d6MPfOxSDcEg"
      },
      "outputs": [
        {
          "data": {
            "text/html": [
              "<div>\n",
              "<style scoped>\n",
              "    .dataframe tbody tr th:only-of-type {\n",
              "        vertical-align: middle;\n",
              "    }\n",
              "\n",
              "    .dataframe tbody tr th {\n",
              "        vertical-align: top;\n",
              "    }\n",
              "\n",
              "    .dataframe thead th {\n",
              "        text-align: right;\n",
              "    }\n",
              "</style>\n",
              "<table border=\"1\" class=\"dataframe\">\n",
              "  <thead>\n",
              "    <tr style=\"text-align: right;\">\n",
              "      <th></th>\n",
              "      <th>ISO3</th>\n",
              "      <th>ECONOMY_NAME</th>\n",
              "      <th>NUM</th>\n",
              "      <th>NAME</th>\n",
              "      <th>DATAYR</th>\n",
              "      <th>VALUE_SCREEN</th>\n",
              "      <th>SCORE</th>\n",
              "      <th>RANK</th>\n",
              "      <th>SW_OVERALL</th>\n",
              "      <th>SW_INCGRP</th>\n",
              "      <th>OUTDATED</th>\n",
              "      <th>DMC</th>\n",
              "    </tr>\n",
              "  </thead>\n",
              "  <tbody>\n",
              "    <tr>\n",
              "      <th>0</th>\n",
              "      <td>ALB</td>\n",
              "      <td>Albania</td>\n",
              "      <td>NaN</td>\n",
              "      <td>Global Innovation Index</td>\n",
              "      <td>NaN</td>\n",
              "      <td>NaN</td>\n",
              "      <td>24.537930</td>\n",
              "      <td>84.0</td>\n",
              "      <td>NaN</td>\n",
              "      <td>NaN</td>\n",
              "      <td>NaN</td>\n",
              "      <td>NaN</td>\n",
              "    </tr>\n",
              "    <tr>\n",
              "      <th>1</th>\n",
              "      <td>ALB</td>\n",
              "      <td>Albania</td>\n",
              "      <td>IN</td>\n",
              "      <td>Innovation inputs</td>\n",
              "      <td>NaN</td>\n",
              "      <td>NaN</td>\n",
              "      <td>35.043195</td>\n",
              "      <td>66.0</td>\n",
              "      <td>NaN</td>\n",
              "      <td>NaN</td>\n",
              "      <td>NaN</td>\n",
              "      <td>NaN</td>\n",
              "    </tr>\n",
              "    <tr>\n",
              "      <th>2</th>\n",
              "      <td>ALB</td>\n",
              "      <td>Albania</td>\n",
              "      <td>IN.1</td>\n",
              "      <td>Institutions</td>\n",
              "      <td>NaN</td>\n",
              "      <td>NaN</td>\n",
              "      <td>50.321760</td>\n",
              "      <td>60.0</td>\n",
              "      <td>NaN</td>\n",
              "      <td>NaN</td>\n",
              "      <td>NaN</td>\n",
              "      <td>0.0</td>\n",
              "    </tr>\n",
              "    <tr>\n",
              "      <th>3</th>\n",
              "      <td>ALB</td>\n",
              "      <td>Albania</td>\n",
              "      <td>IN.1.1</td>\n",
              "      <td>Institutional environment</td>\n",
              "      <td>NaN</td>\n",
              "      <td>NaN</td>\n",
              "      <td>55.174345</td>\n",
              "      <td>60.0</td>\n",
              "      <td>NaN</td>\n",
              "      <td>NaN</td>\n",
              "      <td>NaN</td>\n",
              "      <td>0.0</td>\n",
              "    </tr>\n",
              "    <tr>\n",
              "      <th>4</th>\n",
              "      <td>ALB</td>\n",
              "      <td>Albania</td>\n",
              "      <td>IN.1.1.1</td>\n",
              "      <td>Operational stability for businesses*</td>\n",
              "      <td>2023.0</td>\n",
              "      <td>2.025</td>\n",
              "      <td>64.666667</td>\n",
              "      <td>61.0</td>\n",
              "      <td>NaN</td>\n",
              "      <td>NaN</td>\n",
              "      <td>0.0</td>\n",
              "      <td>NaN</td>\n",
              "    </tr>\n",
              "  </tbody>\n",
              "</table>\n",
              "</div>"
            ],
            "text/plain": [
              "  ISO3 ECONOMY_NAME       NUM                                   NAME  DATAYR  \\\n",
              "0  ALB      Albania       NaN                Global Innovation Index     NaN   \n",
              "1  ALB      Albania        IN                      Innovation inputs     NaN   \n",
              "2  ALB      Albania      IN.1                           Institutions     NaN   \n",
              "3  ALB      Albania    IN.1.1              Institutional environment     NaN   \n",
              "4  ALB      Albania  IN.1.1.1  Operational stability for businesses*  2023.0   \n",
              "\n",
              "   VALUE_SCREEN      SCORE  RANK SW_OVERALL SW_INCGRP  OUTDATED  DMC  \n",
              "0           NaN  24.537930  84.0        NaN       NaN       NaN  NaN  \n",
              "1           NaN  35.043195  66.0        NaN       NaN       NaN  NaN  \n",
              "2           NaN  50.321760  60.0        NaN       NaN       NaN  0.0  \n",
              "3           NaN  55.174345  60.0        NaN       NaN       NaN  0.0  \n",
              "4         2.025  64.666667  61.0        NaN       NaN       0.0  NaN  "
            ]
          },
          "execution_count": 3,
          "metadata": {},
          "output_type": "execute_result"
        }
      ],
      "source": [
        "df.head()"
      ]
    },
    {
      "cell_type": "code",
      "execution_count": 4,
      "metadata": {
        "id": "DjrXyXcmDcEh"
      },
      "outputs": [],
      "source": [
        "df = df[[\"ECONOMY_NAME\", \"NUM\", \"NAME\", \"SCORE\", \"RANK\"]]"
      ]
    },
    {
      "cell_type": "code",
      "execution_count": 5,
      "metadata": {
        "id": "YYSZS6qFDcEh"
      },
      "outputs": [
        {
          "data": {
            "text/html": [
              "<div>\n",
              "<style scoped>\n",
              "    .dataframe tbody tr th:only-of-type {\n",
              "        vertical-align: middle;\n",
              "    }\n",
              "\n",
              "    .dataframe tbody tr th {\n",
              "        vertical-align: top;\n",
              "    }\n",
              "\n",
              "    .dataframe thead th {\n",
              "        text-align: right;\n",
              "    }\n",
              "</style>\n",
              "<table border=\"1\" class=\"dataframe\">\n",
              "  <thead>\n",
              "    <tr style=\"text-align: right;\">\n",
              "      <th></th>\n",
              "      <th>ECONOMY_NAME</th>\n",
              "      <th>NUM</th>\n",
              "      <th>NAME</th>\n",
              "      <th>SCORE</th>\n",
              "      <th>RANK</th>\n",
              "    </tr>\n",
              "  </thead>\n",
              "  <tbody>\n",
              "    <tr>\n",
              "      <th>0</th>\n",
              "      <td>Albania</td>\n",
              "      <td>NaN</td>\n",
              "      <td>Global Innovation Index</td>\n",
              "      <td>24.537930</td>\n",
              "      <td>84.0</td>\n",
              "    </tr>\n",
              "    <tr>\n",
              "      <th>1</th>\n",
              "      <td>Albania</td>\n",
              "      <td>IN</td>\n",
              "      <td>Innovation inputs</td>\n",
              "      <td>35.043195</td>\n",
              "      <td>66.0</td>\n",
              "    </tr>\n",
              "    <tr>\n",
              "      <th>2</th>\n",
              "      <td>Albania</td>\n",
              "      <td>IN.1</td>\n",
              "      <td>Institutions</td>\n",
              "      <td>50.321760</td>\n",
              "      <td>60.0</td>\n",
              "    </tr>\n",
              "    <tr>\n",
              "      <th>3</th>\n",
              "      <td>Albania</td>\n",
              "      <td>IN.1.1</td>\n",
              "      <td>Institutional environment</td>\n",
              "      <td>55.174345</td>\n",
              "      <td>60.0</td>\n",
              "    </tr>\n",
              "    <tr>\n",
              "      <th>4</th>\n",
              "      <td>Albania</td>\n",
              "      <td>IN.1.1.1</td>\n",
              "      <td>Operational stability for businesses*</td>\n",
              "      <td>64.666667</td>\n",
              "      <td>61.0</td>\n",
              "    </tr>\n",
              "  </tbody>\n",
              "</table>\n",
              "</div>"
            ],
            "text/plain": [
              "  ECONOMY_NAME       NUM                                   NAME      SCORE  \\\n",
              "0      Albania       NaN                Global Innovation Index  24.537930   \n",
              "1      Albania        IN                      Innovation inputs  35.043195   \n",
              "2      Albania      IN.1                           Institutions  50.321760   \n",
              "3      Albania    IN.1.1              Institutional environment  55.174345   \n",
              "4      Albania  IN.1.1.1  Operational stability for businesses*  64.666667   \n",
              "\n",
              "   RANK  \n",
              "0  84.0  \n",
              "1  66.0  \n",
              "2  60.0  \n",
              "3  60.0  \n",
              "4  61.0  "
            ]
          },
          "execution_count": 5,
          "metadata": {},
          "output_type": "execute_result"
        }
      ],
      "source": [
        "df.head()"
      ]
    },
    {
      "cell_type": "code",
      "execution_count": 6,
      "metadata": {
        "id": "auapLJGrDcEi"
      },
      "outputs": [
        {
          "data": {
            "text/plain": [
              "array(['Albania', 'Algeria', 'Angola', 'Argentina', 'Armenia',\n",
              "       'Australia', 'Austria', 'Azerbaijan', 'Bahrain', 'Bangladesh',\n",
              "       'Barbados', 'Belarus', 'Belgium', 'Benin',\n",
              "       'Bolivia (Plurinational State of)', 'Bosnia and Herzegovina',\n",
              "       'Botswana', 'Brazil', 'Brunei Darussalam', 'Bulgaria',\n",
              "       'Burkina Faso', 'Burundi', 'Cabo Verde', 'Cambodia', 'Cameroon',\n",
              "       'Canada', 'Chile', 'China', 'Colombia', 'Costa Rica', 'Croatia',\n",
              "       'Cyprus', 'Czech Republic', \"Côte d'Ivoire\", 'Denmark',\n",
              "       'Dominican Republic', 'Ecuador', 'Egypt', 'El Salvador', 'Estonia',\n",
              "       'Ethiopia', 'Finland', 'France', 'Georgia', 'Germany', 'Ghana',\n",
              "       'Greece', 'Guatemala', 'Honduras', 'Hong Kong, China', 'Hungary',\n",
              "       'Iceland', 'India', 'Indonesia', 'Iran (Islamic Republic of)',\n",
              "       'Ireland', 'Israel', 'Italy', 'Jamaica', 'Japan', 'Jordan',\n",
              "       'Kazakhstan', 'Kenya', 'Kuwait', 'Kyrgyzstan',\n",
              "       \"Lao People's Democratic Republic\", 'Latvia', 'Lebanon',\n",
              "       'Lithuania', 'Luxembourg', 'Madagascar', 'Malaysia', 'Mali',\n",
              "       'Malta', 'Mauritania', 'Mauritius', 'Mexico', 'Mongolia',\n",
              "       'Montenegro', 'Morocco', 'Mozambique', 'Myanmar', 'Namibia',\n",
              "       'Nepal', 'Netherlands (Kingdom of the)', 'New Zealand',\n",
              "       'Nicaragua', 'Niger', 'Nigeria', 'North Macedonia', 'Norway',\n",
              "       'Oman', 'Pakistan', 'Panama', 'Paraguay', 'Peru', 'Philippines',\n",
              "       'Poland', 'Portugal', 'Qatar', 'Republic of Korea',\n",
              "       'Republic of Moldova', 'Romania', 'Russian Federation', 'Rwanda',\n",
              "       'Saudi Arabia', 'Senegal', 'Serbia', 'Singapore', 'Slovakia',\n",
              "       'Slovenia', 'South Africa', 'Spain', 'Sri Lanka', 'Sweden',\n",
              "       'Switzerland', 'Tajikistan', 'Thailand', 'Togo',\n",
              "       'Trinidad and Tobago', 'Tunisia', 'Türkiye', 'Uganda', 'Ukraine',\n",
              "       'United Arab Emirates', 'United Kingdom',\n",
              "       'United Republic of Tanzania', 'United States of America',\n",
              "       'Uruguay', 'Uzbekistan', 'Viet Nam', 'Zambia', 'Zimbabwe'],\n",
              "      dtype=object)"
            ]
          },
          "execution_count": 6,
          "metadata": {},
          "output_type": "execute_result"
        }
      ],
      "source": [
        "countries = df[\"ECONOMY_NAME\"].unique()\n",
        "countries"
      ]
    },
    {
      "cell_type": "code",
      "execution_count": 7,
      "metadata": {
        "id": "G4HDZAI6DcEi"
      },
      "outputs": [
        {
          "data": {
            "text/plain": [
              "array(['Innovation inputs', 'Institutions', 'Institutional environment',\n",
              "       'Regulatory environment', 'Business environment',\n",
              "       'Human capital and research', 'Education', 'Tertiary education',\n",
              "       'Research and development (R&D)', 'Infrastructure',\n",
              "       'Information and communication technologies (ICTs)',\n",
              "       'General infrastructure', 'Ecological sustainability',\n",
              "       'Market sophistication', 'Credit', 'Investment',\n",
              "       'Trade, diversification and market scale',\n",
              "       'Business sophistication', 'Knowledge workers',\n",
              "       'Innovation linkages', 'Knowledge absorption',\n",
              "       'Innovation outputs', 'Knowledge and technology outputs',\n",
              "       'Knowledge creation', 'Knowledge impact', 'Knowledge diffusion',\n",
              "       'Creative outputs', 'Intangible assets',\n",
              "       'Creative goods and services', 'Online creativity'], dtype=object)"
            ]
          },
          "execution_count": 7,
          "metadata": {},
          "output_type": "execute_result"
        }
      ],
      "source": [
        "names_to_drop = df[df[\"NUM\"].astype(str).str.match(r\"^[A-Z]+$|^[A-Z]+\\.\\d+$|^[A-Z]+\\.\\d+\\.\\d+$\", na=False)][\"NAME\"].unique()\n",
        "names_to_drop"
      ]
    },
    {
      "cell_type": "code",
      "execution_count": 8,
      "metadata": {
        "id": "CUEoTedaDcEi"
      },
      "outputs": [],
      "source": [
        "df = df[~df[\"NAME\"].isin(names_to_drop)]"
      ]
    },
    {
      "cell_type": "code",
      "execution_count": 9,
      "metadata": {
        "id": "ai1-h3kMDcEi"
      },
      "outputs": [
        {
          "data": {
            "text/html": [
              "<div>\n",
              "<style scoped>\n",
              "    .dataframe tbody tr th:only-of-type {\n",
              "        vertical-align: middle;\n",
              "    }\n",
              "\n",
              "    .dataframe tbody tr th {\n",
              "        vertical-align: top;\n",
              "    }\n",
              "\n",
              "    .dataframe thead th {\n",
              "        text-align: right;\n",
              "    }\n",
              "</style>\n",
              "<table border=\"1\" class=\"dataframe\">\n",
              "  <thead>\n",
              "    <tr style=\"text-align: right;\">\n",
              "      <th></th>\n",
              "      <th>ECONOMY_NAME</th>\n",
              "      <th>NUM</th>\n",
              "      <th>NAME</th>\n",
              "      <th>SCORE</th>\n",
              "      <th>RANK</th>\n",
              "    </tr>\n",
              "  </thead>\n",
              "  <tbody>\n",
              "    <tr>\n",
              "      <th>0</th>\n",
              "      <td>Albania</td>\n",
              "      <td>NaN</td>\n",
              "      <td>Global Innovation Index</td>\n",
              "      <td>24.537930</td>\n",
              "      <td>84.0</td>\n",
              "    </tr>\n",
              "    <tr>\n",
              "      <th>4</th>\n",
              "      <td>Albania</td>\n",
              "      <td>IN.1.1.1</td>\n",
              "      <td>Operational stability for businesses*</td>\n",
              "      <td>64.666667</td>\n",
              "      <td>61.0</td>\n",
              "    </tr>\n",
              "    <tr>\n",
              "      <th>5</th>\n",
              "      <td>Albania</td>\n",
              "      <td>IN.1.1.2</td>\n",
              "      <td>Government effectiveness*</td>\n",
              "      <td>45.682023</td>\n",
              "      <td>62.0</td>\n",
              "    </tr>\n",
              "    <tr>\n",
              "      <th>7</th>\n",
              "      <td>Albania</td>\n",
              "      <td>IN.1.2.1</td>\n",
              "      <td>Regulatory quality*</td>\n",
              "      <td>46.021116</td>\n",
              "      <td>64.0</td>\n",
              "    </tr>\n",
              "    <tr>\n",
              "      <th>8</th>\n",
              "      <td>Albania</td>\n",
              "      <td>IN.1.2.2</td>\n",
              "      <td>Rule of law*</td>\n",
              "      <td>39.082407</td>\n",
              "      <td>73.0</td>\n",
              "    </tr>\n",
              "  </tbody>\n",
              "</table>\n",
              "</div>"
            ],
            "text/plain": [
              "  ECONOMY_NAME       NUM                                   NAME      SCORE  \\\n",
              "0      Albania       NaN                Global Innovation Index  24.537930   \n",
              "4      Albania  IN.1.1.1  Operational stability for businesses*  64.666667   \n",
              "5      Albania  IN.1.1.2              Government effectiveness*  45.682023   \n",
              "7      Albania  IN.1.2.1                    Regulatory quality*  46.021116   \n",
              "8      Albania  IN.1.2.2                           Rule of law*  39.082407   \n",
              "\n",
              "   RANK  \n",
              "0  84.0  \n",
              "4  61.0  \n",
              "5  62.0  \n",
              "7  64.0  \n",
              "8  73.0  "
            ]
          },
          "execution_count": 9,
          "metadata": {},
          "output_type": "execute_result"
        }
      ],
      "source": [
        "df.head()"
      ]
    },
    {
      "cell_type": "code",
      "execution_count": 10,
      "metadata": {
        "id": "KDHYW2HVDcEi"
      },
      "outputs": [
        {
          "data": {
            "text/plain": [
              "array(['Global Innovation Index', 'Operational stability for businesses*',\n",
              "       'Government effectiveness*', 'Regulatory quality*', 'Rule of law*',\n",
              "       'Policy stability for doing business†',\n",
              "       'Entrepreneurship policies and culture†',\n",
              "       'Expenditure on education, % GDP',\n",
              "       'Government funding/pupil, secondary, % GDP/cap',\n",
              "       'School life expectancy, years',\n",
              "       'PISA scales in reading, maths and science',\n",
              "       'Pupil–teacher ratio, secondary', 'Tertiary enrolment, % gross',\n",
              "       'Graduates in science and engineering, %',\n",
              "       'Tertiary inbound mobility, %', 'Researchers, FTE/mn pop.',\n",
              "       'Gross expenditure on R&D, % GDP',\n",
              "       'Global corporate R&D investors, top 3, mn USD',\n",
              "       'QS university ranking, top 3*', 'ICT access*', 'ICT use*',\n",
              "       \"Government's online service*\", 'E-participation*',\n",
              "       'Electricity output, GWh/mn pop.', 'Logistics performance*',\n",
              "       'Gross capital formation, % GDP', 'GDP/unit of energy use',\n",
              "       'Low-carbon energy use, %', 'ISO 14001 environment/bn PPP$ GDP',\n",
              "       'Finance for startups and scaleups†',\n",
              "       'Domestic credit to private sector, % GDP',\n",
              "       'Loans from microfinance institutions, % GDP',\n",
              "       'Market capitalization, % GDP',\n",
              "       'Venture capital (VC) investors, deals/bn PPP$ GDP',\n",
              "       'VC recipients, deals/bn PPP$ GDP', 'VC received, value, % GDP',\n",
              "       'Applied tariff rate, weighted avg., %',\n",
              "       'Domestic industry diversification',\n",
              "       'Domestic market scale, bn PPP$',\n",
              "       'Knowledge-intensive employment, %',\n",
              "       'Firms offering formal training, %',\n",
              "       'GERD performed by business, % GDP',\n",
              "       'GERD financed by business, %',\n",
              "       'Females employed w/advanced degrees, %',\n",
              "       'Public research–industry co-publications, %',\n",
              "       'University–industry R&D collaboration†',\n",
              "       'State of cluster development†',\n",
              "       'Joint venture/strategic alliance deals/bn PPP$ GDP',\n",
              "       'Patent families/bn PPP$ GDP',\n",
              "       'Intellectual property payments, % total trade',\n",
              "       'High-tech imports, % total trade',\n",
              "       'ICT services imports, % total trade', 'FDI net inflows, % GDP',\n",
              "       'Research talent, % in businesses',\n",
              "       'Patents by origin/bn PPP$ GDP',\n",
              "       'PCT patents by origin/bn PPP$ GDP',\n",
              "       'Utility models by origin/bn PPP$ GDP',\n",
              "       'Scientific and technical articles/bn PPP$ GDP',\n",
              "       'Citable documents H-index', 'Labor productivity growth, %',\n",
              "       'Unicorn valuation, % GDP', 'Software spending, % GDP',\n",
              "       'High-tech manufacturing, %',\n",
              "       'Intellectual property receipts, % total trade',\n",
              "       'Production and export complexity',\n",
              "       'High-tech exports, % total trade',\n",
              "       'ICT services exports, % total trade',\n",
              "       'ISO 9001 quality/bn PPP$ GDP',\n",
              "       'Intangible asset intensity, top 15, %',\n",
              "       'Trademarks by origin/bn PPP$ GDP',\n",
              "       'Global brand value, top 5,000, % GDP',\n",
              "       'Industrial designs by origin/bn PPP$ GDP',\n",
              "       'Cultural and creative services exports, % total trade',\n",
              "       'National feature films/mn pop. 15–69',\n",
              "       'Entertainment and media market/th pop. 15–69',\n",
              "       'Creative goods exports, % total trade',\n",
              "       'Top-level domains (TLDs)/th pop. 15–69',\n",
              "       'GitHub commits/mn pop. 15–69', 'Mobile app creation/bn PPP$ GDP'],\n",
              "      dtype=object)"
            ]
          },
          "execution_count": 10,
          "metadata": {},
          "output_type": "execute_result"
        }
      ],
      "source": [
        "indicator = df[\"NAME\"].unique()\n",
        "indicator"
      ]
    },
    {
      "cell_type": "code",
      "execution_count": 11,
      "metadata": {
        "id": "KDz490kVDcEi"
      },
      "outputs": [
        {
          "data": {
            "text/html": [
              "<div>\n",
              "<style scoped>\n",
              "    .dataframe tbody tr th:only-of-type {\n",
              "        vertical-align: middle;\n",
              "    }\n",
              "\n",
              "    .dataframe tbody tr th {\n",
              "        vertical-align: top;\n",
              "    }\n",
              "\n",
              "    .dataframe thead th {\n",
              "        text-align: right;\n",
              "    }\n",
              "</style>\n",
              "<table border=\"1\" class=\"dataframe\">\n",
              "  <thead>\n",
              "    <tr style=\"text-align: right;\">\n",
              "      <th></th>\n",
              "      <th>ECONOMY_NAME</th>\n",
              "      <th>NUM</th>\n",
              "      <th>NAME</th>\n",
              "      <th>SCORE</th>\n",
              "      <th>RANK</th>\n",
              "    </tr>\n",
              "  </thead>\n",
              "  <tbody>\n",
              "    <tr>\n",
              "      <th>0</th>\n",
              "      <td>Albania</td>\n",
              "      <td>NaN</td>\n",
              "      <td>Global Innovation Index</td>\n",
              "      <td>24.537930</td>\n",
              "      <td>84.0</td>\n",
              "    </tr>\n",
              "    <tr>\n",
              "      <th>4</th>\n",
              "      <td>Albania</td>\n",
              "      <td>IN.1.1.1</td>\n",
              "      <td>Operational stability for businesses*</td>\n",
              "      <td>64.666667</td>\n",
              "      <td>61.0</td>\n",
              "    </tr>\n",
              "    <tr>\n",
              "      <th>5</th>\n",
              "      <td>Albania</td>\n",
              "      <td>IN.1.1.2</td>\n",
              "      <td>Government effectiveness*</td>\n",
              "      <td>45.682023</td>\n",
              "      <td>62.0</td>\n",
              "    </tr>\n",
              "    <tr>\n",
              "      <th>7</th>\n",
              "      <td>Albania</td>\n",
              "      <td>IN.1.2.1</td>\n",
              "      <td>Regulatory quality*</td>\n",
              "      <td>46.021116</td>\n",
              "      <td>64.0</td>\n",
              "    </tr>\n",
              "    <tr>\n",
              "      <th>8</th>\n",
              "      <td>Albania</td>\n",
              "      <td>IN.1.2.2</td>\n",
              "      <td>Rule of law*</td>\n",
              "      <td>39.082407</td>\n",
              "      <td>73.0</td>\n",
              "    </tr>\n",
              "  </tbody>\n",
              "</table>\n",
              "</div>"
            ],
            "text/plain": [
              "  ECONOMY_NAME       NUM                                   NAME      SCORE  \\\n",
              "0      Albania       NaN                Global Innovation Index  24.537930   \n",
              "4      Albania  IN.1.1.1  Operational stability for businesses*  64.666667   \n",
              "5      Albania  IN.1.1.2              Government effectiveness*  45.682023   \n",
              "7      Albania  IN.1.2.1                    Regulatory quality*  46.021116   \n",
              "8      Albania  IN.1.2.2                           Rule of law*  39.082407   \n",
              "\n",
              "   RANK  \n",
              "0  84.0  \n",
              "4  61.0  \n",
              "5  62.0  \n",
              "7  64.0  \n",
              "8  73.0  "
            ]
          },
          "execution_count": 11,
          "metadata": {},
          "output_type": "execute_result"
        }
      ],
      "source": [
        "df.head()"
      ]
    },
    {
      "cell_type": "code",
      "execution_count": 12,
      "metadata": {
        "id": "-VRFdFLbDcEj"
      },
      "outputs": [],
      "source": [
        "# Pivot the table to reshape it\n",
        "df_clean = df.pivot(index=\"ECONOMY_NAME\", columns=\"NAME\", values=\"SCORE\").reset_index()"
      ]
    },
    {
      "cell_type": "code",
      "execution_count": 13,
      "metadata": {
        "id": "hhlZF9XiDcEj"
      },
      "outputs": [],
      "source": [
        "df_clean = df_clean.set_index(\"ECONOMY_NAME\")"
      ]
    },
    {
      "cell_type": "code",
      "execution_count": 14,
      "metadata": {
        "id": "f_jpvJBXDcEj"
      },
      "outputs": [],
      "source": [
        "df_clean.columns.name = None"
      ]
    },
    {
      "cell_type": "code",
      "execution_count": 15,
      "metadata": {
        "id": "1FKEdrpTDcEj"
      },
      "outputs": [
        {
          "data": {
            "text/html": [
              "<div>\n",
              "<style scoped>\n",
              "    .dataframe tbody tr th:only-of-type {\n",
              "        vertical-align: middle;\n",
              "    }\n",
              "\n",
              "    .dataframe tbody tr th {\n",
              "        vertical-align: top;\n",
              "    }\n",
              "\n",
              "    .dataframe thead th {\n",
              "        text-align: right;\n",
              "    }\n",
              "</style>\n",
              "<table border=\"1\" class=\"dataframe\">\n",
              "  <thead>\n",
              "    <tr style=\"text-align: right;\">\n",
              "      <th></th>\n",
              "      <th>Applied tariff rate, weighted avg., %</th>\n",
              "      <th>Citable documents H-index</th>\n",
              "      <th>Creative goods exports, % total trade</th>\n",
              "      <th>Cultural and creative services exports, % total trade</th>\n",
              "      <th>Domestic credit to private sector, % GDP</th>\n",
              "      <th>Domestic industry diversification</th>\n",
              "      <th>Domestic market scale, bn PPP$</th>\n",
              "      <th>E-participation*</th>\n",
              "      <th>Electricity output, GWh/mn pop.</th>\n",
              "      <th>Entertainment and media market/th pop. 15–69</th>\n",
              "      <th>...</th>\n",
              "      <th>Tertiary enrolment, % gross</th>\n",
              "      <th>Tertiary inbound mobility, %</th>\n",
              "      <th>Top-level domains (TLDs)/th pop. 15–69</th>\n",
              "      <th>Trademarks by origin/bn PPP$ GDP</th>\n",
              "      <th>Unicorn valuation, % GDP</th>\n",
              "      <th>University–industry R&amp;D collaboration†</th>\n",
              "      <th>Utility models by origin/bn PPP$ GDP</th>\n",
              "      <th>VC received, value, % GDP</th>\n",
              "      <th>VC recipients, deals/bn PPP$ GDP</th>\n",
              "      <th>Venture capital (VC) investors, deals/bn PPP$ GDP</th>\n",
              "    </tr>\n",
              "    <tr>\n",
              "      <th>ECONOMY_NAME</th>\n",
              "      <th></th>\n",
              "      <th></th>\n",
              "      <th></th>\n",
              "      <th></th>\n",
              "      <th></th>\n",
              "      <th></th>\n",
              "      <th></th>\n",
              "      <th></th>\n",
              "      <th></th>\n",
              "      <th></th>\n",
              "      <th></th>\n",
              "      <th></th>\n",
              "      <th></th>\n",
              "      <th></th>\n",
              "      <th></th>\n",
              "      <th></th>\n",
              "      <th></th>\n",
              "      <th></th>\n",
              "      <th></th>\n",
              "      <th></th>\n",
              "      <th></th>\n",
              "    </tr>\n",
              "  </thead>\n",
              "  <tbody>\n",
              "    <tr>\n",
              "      <th>Albania</th>\n",
              "      <td>92.210521</td>\n",
              "      <td>2.978723</td>\n",
              "      <td>0.015020</td>\n",
              "      <td>29.215047</td>\n",
              "      <td>10.006151</td>\n",
              "      <td>90.885519</td>\n",
              "      <td>0.999635</td>\n",
              "      <td>75.585798</td>\n",
              "      <td>9.349493</td>\n",
              "      <td>NaN</td>\n",
              "      <td>...</td>\n",
              "      <td>40.060361</td>\n",
              "      <td>3.800283</td>\n",
              "      <td>4.665280</td>\n",
              "      <td>19.538857</td>\n",
              "      <td>0.000000</td>\n",
              "      <td>59.694859</td>\n",
              "      <td>0.590961</td>\n",
              "      <td>0.367975</td>\n",
              "      <td>5.472364</td>\n",
              "      <td>NaN</td>\n",
              "    </tr>\n",
              "    <tr>\n",
              "      <th>Algeria</th>\n",
              "      <td>0.000000</td>\n",
              "      <td>10.159574</td>\n",
              "      <td>0.155159</td>\n",
              "      <td>0.263551</td>\n",
              "      <td>4.963085</td>\n",
              "      <td>14.199843</td>\n",
              "      <td>12.345052</td>\n",
              "      <td>20.935230</td>\n",
              "      <td>7.141591</td>\n",
              "      <td>1.651687</td>\n",
              "      <td>...</td>\n",
              "      <td>33.666366</td>\n",
              "      <td>1.178168</td>\n",
              "      <td>0.259106</td>\n",
              "      <td>14.238961</td>\n",
              "      <td>0.000000</td>\n",
              "      <td>54.663444</td>\n",
              "      <td>NaN</td>\n",
              "      <td>4.751620</td>\n",
              "      <td>0.276453</td>\n",
              "      <td>NaN</td>\n",
              "    </tr>\n",
              "    <tr>\n",
              "      <th>Angola</th>\n",
              "      <td>43.866376</td>\n",
              "      <td>0.851064</td>\n",
              "      <td>0.098477</td>\n",
              "      <td>NaN</td>\n",
              "      <td>0.000000</td>\n",
              "      <td>0.000000</td>\n",
              "      <td>5.046224</td>\n",
              "      <td>15.123299</td>\n",
              "      <td>1.716850</td>\n",
              "      <td>NaN</td>\n",
              "      <td>...</td>\n",
              "      <td>4.652238</td>\n",
              "      <td>NaN</td>\n",
              "      <td>0.065191</td>\n",
              "      <td>8.167782</td>\n",
              "      <td>0.000000</td>\n",
              "      <td>0.639246</td>\n",
              "      <td>1.106400</td>\n",
              "      <td>NaN</td>\n",
              "      <td>NaN</td>\n",
              "      <td>NaN</td>\n",
              "    </tr>\n",
              "    <tr>\n",
              "      <th>Argentina</th>\n",
              "      <td>54.224936</td>\n",
              "      <td>27.659574</td>\n",
              "      <td>0.529521</td>\n",
              "      <td>28.728915</td>\n",
              "      <td>2.947834</td>\n",
              "      <td>81.372727</td>\n",
              "      <td>24.432256</td>\n",
              "      <td>63.951704</td>\n",
              "      <td>11.641123</td>\n",
              "      <td>3.308273</td>\n",
              "      <td>...</td>\n",
              "      <td>70.485044</td>\n",
              "      <td>8.077687</td>\n",
              "      <td>4.149858</td>\n",
              "      <td>44.241083</td>\n",
              "      <td>7.863705</td>\n",
              "      <td>37.021758</td>\n",
              "      <td>4.290896</td>\n",
              "      <td>5.431742</td>\n",
              "      <td>4.196656</td>\n",
              "      <td>1.607256</td>\n",
              "    </tr>\n",
              "    <tr>\n",
              "      <th>Armenia</th>\n",
              "      <td>71.139047</td>\n",
              "      <td>9.946809</td>\n",
              "      <td>39.661030</td>\n",
              "      <td>11.251010</td>\n",
              "      <td>17.290359</td>\n",
              "      <td>72.020385</td>\n",
              "      <td>1.050496</td>\n",
              "      <td>56.973294</td>\n",
              "      <td>10.481087</td>\n",
              "      <td>NaN</td>\n",
              "      <td>...</td>\n",
              "      <td>38.055601</td>\n",
              "      <td>18.733270</td>\n",
              "      <td>4.152156</td>\n",
              "      <td>80.880401</td>\n",
              "      <td>0.000000</td>\n",
              "      <td>25.738732</td>\n",
              "      <td>47.278535</td>\n",
              "      <td>0.511027</td>\n",
              "      <td>16.983590</td>\n",
              "      <td>2.591861</td>\n",
              "    </tr>\n",
              "  </tbody>\n",
              "</table>\n",
              "<p>5 rows × 79 columns</p>\n",
              "</div>"
            ],
            "text/plain": [
              "              Applied tariff rate, weighted avg., %  \\\n",
              "ECONOMY_NAME                                          \n",
              "Albania                                   92.210521   \n",
              "Algeria                                    0.000000   \n",
              "Angola                                    43.866376   \n",
              "Argentina                                 54.224936   \n",
              "Armenia                                   71.139047   \n",
              "\n",
              "              Citable documents H-index  \\\n",
              "ECONOMY_NAME                              \n",
              "Albania                        2.978723   \n",
              "Algeria                       10.159574   \n",
              "Angola                         0.851064   \n",
              "Argentina                     27.659574   \n",
              "Armenia                        9.946809   \n",
              "\n",
              "              Creative goods exports, % total trade  \\\n",
              "ECONOMY_NAME                                          \n",
              "Albania                                    0.015020   \n",
              "Algeria                                    0.155159   \n",
              "Angola                                     0.098477   \n",
              "Argentina                                  0.529521   \n",
              "Armenia                                   39.661030   \n",
              "\n",
              "              Cultural and creative services exports, % total trade  \\\n",
              "ECONOMY_NAME                                                          \n",
              "Albania                                               29.215047       \n",
              "Algeria                                                0.263551       \n",
              "Angola                                                      NaN       \n",
              "Argentina                                             28.728915       \n",
              "Armenia                                               11.251010       \n",
              "\n",
              "              Domestic credit to private sector, % GDP  \\\n",
              "ECONOMY_NAME                                             \n",
              "Albania                                      10.006151   \n",
              "Algeria                                       4.963085   \n",
              "Angola                                        0.000000   \n",
              "Argentina                                     2.947834   \n",
              "Armenia                                      17.290359   \n",
              "\n",
              "              Domestic industry diversification  \\\n",
              "ECONOMY_NAME                                      \n",
              "Albania                               90.885519   \n",
              "Algeria                               14.199843   \n",
              "Angola                                 0.000000   \n",
              "Argentina                             81.372727   \n",
              "Armenia                               72.020385   \n",
              "\n",
              "              Domestic market scale, bn PPP$  E-participation*  \\\n",
              "ECONOMY_NAME                                                     \n",
              "Albania                             0.999635         75.585798   \n",
              "Algeria                            12.345052         20.935230   \n",
              "Angola                              5.046224         15.123299   \n",
              "Argentina                          24.432256         63.951704   \n",
              "Armenia                             1.050496         56.973294   \n",
              "\n",
              "              Electricity output, GWh/mn pop.  \\\n",
              "ECONOMY_NAME                                    \n",
              "Albania                              9.349493   \n",
              "Algeria                              7.141591   \n",
              "Angola                               1.716850   \n",
              "Argentina                           11.641123   \n",
              "Armenia                             10.481087   \n",
              "\n",
              "              Entertainment and media market/th pop. 15–69  ...  \\\n",
              "ECONOMY_NAME                                                ...   \n",
              "Albania                                                NaN  ...   \n",
              "Algeria                                           1.651687  ...   \n",
              "Angola                                                 NaN  ...   \n",
              "Argentina                                         3.308273  ...   \n",
              "Armenia                                                NaN  ...   \n",
              "\n",
              "              Tertiary enrolment, % gross  Tertiary inbound mobility, %  \\\n",
              "ECONOMY_NAME                                                              \n",
              "Albania                         40.060361                      3.800283   \n",
              "Algeria                         33.666366                      1.178168   \n",
              "Angola                           4.652238                           NaN   \n",
              "Argentina                       70.485044                      8.077687   \n",
              "Armenia                         38.055601                     18.733270   \n",
              "\n",
              "              Top-level domains (TLDs)/th pop. 15–69  \\\n",
              "ECONOMY_NAME                                           \n",
              "Albania                                     4.665280   \n",
              "Algeria                                     0.259106   \n",
              "Angola                                      0.065191   \n",
              "Argentina                                   4.149858   \n",
              "Armenia                                     4.152156   \n",
              "\n",
              "              Trademarks by origin/bn PPP$ GDP  Unicorn valuation, % GDP  \\\n",
              "ECONOMY_NAME                                                               \n",
              "Albania                              19.538857                  0.000000   \n",
              "Algeria                              14.238961                  0.000000   \n",
              "Angola                                8.167782                  0.000000   \n",
              "Argentina                            44.241083                  7.863705   \n",
              "Armenia                              80.880401                  0.000000   \n",
              "\n",
              "              University–industry R&D collaboration†  \\\n",
              "ECONOMY_NAME                                           \n",
              "Albania                                    59.694859   \n",
              "Algeria                                    54.663444   \n",
              "Angola                                      0.639246   \n",
              "Argentina                                  37.021758   \n",
              "Armenia                                    25.738732   \n",
              "\n",
              "              Utility models by origin/bn PPP$ GDP  VC received, value, % GDP  \\\n",
              "ECONOMY_NAME                                                                    \n",
              "Albania                                   0.590961                   0.367975   \n",
              "Algeria                                        NaN                   4.751620   \n",
              "Angola                                    1.106400                        NaN   \n",
              "Argentina                                 4.290896                   5.431742   \n",
              "Armenia                                  47.278535                   0.511027   \n",
              "\n",
              "              VC recipients, deals/bn PPP$ GDP  \\\n",
              "ECONOMY_NAME                                     \n",
              "Albania                               5.472364   \n",
              "Algeria                               0.276453   \n",
              "Angola                                     NaN   \n",
              "Argentina                             4.196656   \n",
              "Armenia                              16.983590   \n",
              "\n",
              "              Venture capital (VC) investors, deals/bn PPP$ GDP  \n",
              "ECONOMY_NAME                                                     \n",
              "Albania                                                     NaN  \n",
              "Algeria                                                     NaN  \n",
              "Angola                                                      NaN  \n",
              "Argentina                                              1.607256  \n",
              "Armenia                                                2.591861  \n",
              "\n",
              "[5 rows x 79 columns]"
            ]
          },
          "execution_count": 15,
          "metadata": {},
          "output_type": "execute_result"
        }
      ],
      "source": [
        "df_clean.head()"
      ]
    },
    {
      "cell_type": "code",
      "execution_count": 16,
      "metadata": {
        "id": "r1_tuocYDcEj"
      },
      "outputs": [
        {
          "data": {
            "text/plain": [
              "ECONOMY_NAME\n",
              "Albania       24.537930\n",
              "Algeria       16.162259\n",
              "Angola        10.216209\n",
              "Argentina     26.424646\n",
              "Armenia       29.018772\n",
              "                ...    \n",
              "Uruguay       29.130889\n",
              "Uzbekistan    24.704469\n",
              "Viet Nam      36.181335\n",
              "Zambia        15.664772\n",
              "Zimbabwe      15.574619\n",
              "Name: Global Innovation Index, Length: 133, dtype: float64"
            ]
          },
          "execution_count": 16,
          "metadata": {},
          "output_type": "execute_result"
        }
      ],
      "source": [
        "df_clean[\"Global Innovation Index\"]"
      ]
    },
    {
      "cell_type": "code",
      "execution_count": 17,
      "metadata": {
        "id": "euBBcgB4DcEj"
      },
      "outputs": [],
      "source": [
        "missing_percentage = df_clean.isnull().mean() * 100"
      ]
    },
    {
      "cell_type": "code",
      "execution_count": 18,
      "metadata": {
        "id": "63bUdSPEDcEj"
      },
      "outputs": [
        {
          "data": {
            "text/plain": [
              "Entertainment and media market/th pop. 15–69    53.383459\n",
              "Loans from microfinance institutions, % GDP     53.383459\n",
              "Intangible asset intensity, top 15, %           40.601504\n",
              "Utility models by origin/bn PPP$ GDP            37.593985\n",
              "Market capitalization, % GDP                    36.090226\n",
              "                                                  ...    \n",
              "Operational stability for businesses*            0.000000\n",
              "Software spending, % GDP                         0.000000\n",
              "Rule of law*                                     0.000000\n",
              "Unicorn valuation, % GDP                         0.000000\n",
              "Top-level domains (TLDs)/th pop. 15–69           0.000000\n",
              "Length: 79, dtype: float64"
            ]
          },
          "execution_count": 18,
          "metadata": {},
          "output_type": "execute_result"
        }
      ],
      "source": [
        "missing_percentage.sort_values(ascending=False)"
      ]
    },
    {
      "cell_type": "code",
      "execution_count": 19,
      "metadata": {
        "id": "--Xj9A9lZdrG"
      },
      "outputs": [
        {
          "name": "stdout",
          "output_type": "stream",
          "text": [
            "Number of features to fill: 76\n",
            "Number of features to drop: 3\n"
          ]
        }
      ],
      "source": [
        "# Fill missing values with 0 if missing value is less than 40% of the column\n",
        "columns_to_fill = missing_percentage[missing_percentage < 40].index\n",
        "columns_to_drop = missing_percentage[missing_percentage >= 40].index\n",
        "\n",
        "num_fill = len(columns_to_fill)\n",
        "num_drop = len(columns_to_drop)\n",
        "\n",
        "print(f\"Number of features to fill: {num_fill}\")\n",
        "print(f\"Number of features to drop: {num_drop}\")"
      ]
    },
    {
      "cell_type": "code",
      "execution_count": 20,
      "metadata": {
        "id": "IjoTYD9eDcEj"
      },
      "outputs": [
        {
          "name": "stdout",
          "output_type": "stream",
          "text": [
            "<class 'pandas.core.frame.DataFrame'>\n",
            "Index: 133 entries, Albania to Zimbabwe\n",
            "Data columns (total 76 columns):\n",
            " #   Column                                                 Non-Null Count  Dtype  \n",
            "---  ------                                                 --------------  -----  \n",
            " 0   Applied tariff rate, weighted avg., %                  133 non-null    float64\n",
            " 1   Citable documents H-index                              133 non-null    float64\n",
            " 2   Creative goods exports, % total trade                  133 non-null    float64\n",
            " 3   Cultural and creative services exports, % total trade  133 non-null    float64\n",
            " 4   Domestic credit to private sector, % GDP               133 non-null    float64\n",
            " 5   Domestic industry diversification                      133 non-null    float64\n",
            " 6   Domestic market scale, bn PPP$                         133 non-null    float64\n",
            " 7   E-participation*                                       133 non-null    float64\n",
            " 8   Electricity output, GWh/mn pop.                        133 non-null    float64\n",
            " 9   Entrepreneurship policies and culture†                 133 non-null    float64\n",
            " 10  Expenditure on education, % GDP                        133 non-null    float64\n",
            " 11  FDI net inflows, % GDP                                 133 non-null    float64\n",
            " 12  Females employed w/advanced degrees, %                 133 non-null    float64\n",
            " 13  Finance for startups and scaleups†                     133 non-null    float64\n",
            " 14  Firms offering formal training, %                      133 non-null    float64\n",
            " 15  GDP/unit of energy use                                 133 non-null    float64\n",
            " 16  GERD financed by business, %                           133 non-null    float64\n",
            " 17  GERD performed by business, % GDP                      133 non-null    float64\n",
            " 18  GitHub commits/mn pop. 15–69                           133 non-null    float64\n",
            " 19  Global Innovation Index                                133 non-null    float64\n",
            " 20  Global brand value, top 5,000, % GDP                   133 non-null    float64\n",
            " 21  Global corporate R&D investors, top 3, mn USD          133 non-null    float64\n",
            " 22  Government effectiveness*                              133 non-null    float64\n",
            " 23  Government funding/pupil, secondary, % GDP/cap         133 non-null    float64\n",
            " 24  Government's online service*                           133 non-null    float64\n",
            " 25  Graduates in science and engineering, %                133 non-null    float64\n",
            " 26  Gross capital formation, % GDP                         133 non-null    float64\n",
            " 27  Gross expenditure on R&D, % GDP                        133 non-null    float64\n",
            " 28  High-tech exports, % total trade                       133 non-null    float64\n",
            " 29  High-tech imports, % total trade                       133 non-null    float64\n",
            " 30  High-tech manufacturing, %                             133 non-null    float64\n",
            " 31  ICT access*                                            133 non-null    float64\n",
            " 32  ICT services exports, % total trade                    133 non-null    float64\n",
            " 33  ICT services imports, % total trade                    133 non-null    float64\n",
            " 34  ICT use*                                               133 non-null    float64\n",
            " 35  ISO 14001 environment/bn PPP$ GDP                      133 non-null    float64\n",
            " 36  ISO 9001 quality/bn PPP$ GDP                           133 non-null    float64\n",
            " 37  Industrial designs by origin/bn PPP$ GDP               133 non-null    float64\n",
            " 38  Intellectual property payments, % total trade          133 non-null    float64\n",
            " 39  Intellectual property receipts, % total trade          133 non-null    float64\n",
            " 40  Joint venture/strategic alliance deals/bn PPP$ GDP     133 non-null    float64\n",
            " 41  Knowledge-intensive employment, %                      133 non-null    float64\n",
            " 42  Labor productivity growth, %                           133 non-null    float64\n",
            " 43  Logistics performance*                                 133 non-null    float64\n",
            " 44  Low-carbon energy use, %                               133 non-null    float64\n",
            " 45  Market capitalization, % GDP                           133 non-null    float64\n",
            " 46  Mobile app creation/bn PPP$ GDP                        133 non-null    float64\n",
            " 47  National feature films/mn pop. 15–69                   133 non-null    float64\n",
            " 48  Operational stability for businesses*                  133 non-null    float64\n",
            " 49  PCT patents by origin/bn PPP$ GDP                      133 non-null    float64\n",
            " 50  PISA scales in reading, maths and science              133 non-null    float64\n",
            " 51  Patent families/bn PPP$ GDP                            133 non-null    float64\n",
            " 52  Patents by origin/bn PPP$ GDP                          133 non-null    float64\n",
            " 53  Policy stability for doing business†                   133 non-null    float64\n",
            " 54  Production and export complexity                       133 non-null    float64\n",
            " 55  Public research–industry co-publications, %            133 non-null    float64\n",
            " 56  Pupil–teacher ratio, secondary                         133 non-null    float64\n",
            " 57  QS university ranking, top 3*                          133 non-null    float64\n",
            " 58  Regulatory quality*                                    133 non-null    float64\n",
            " 59  Research talent, % in businesses                       133 non-null    float64\n",
            " 60  Researchers, FTE/mn pop.                               133 non-null    float64\n",
            " 61  Rule of law*                                           133 non-null    float64\n",
            " 62  School life expectancy, years                          133 non-null    float64\n",
            " 63  Scientific and technical articles/bn PPP$ GDP          133 non-null    float64\n",
            " 64  Software spending, % GDP                               133 non-null    float64\n",
            " 65  State of cluster development†                          133 non-null    float64\n",
            " 66  Tertiary enrolment, % gross                            133 non-null    float64\n",
            " 67  Tertiary inbound mobility, %                           133 non-null    float64\n",
            " 68  Top-level domains (TLDs)/th pop. 15–69                 133 non-null    float64\n",
            " 69  Trademarks by origin/bn PPP$ GDP                       133 non-null    float64\n",
            " 70  Unicorn valuation, % GDP                               133 non-null    float64\n",
            " 71  University–industry R&D collaboration†                 133 non-null    float64\n",
            " 72  Utility models by origin/bn PPP$ GDP                   133 non-null    float64\n",
            " 73  VC received, value, % GDP                              133 non-null    float64\n",
            " 74  VC recipients, deals/bn PPP$ GDP                       133 non-null    float64\n",
            " 75  Venture capital (VC) investors, deals/bn PPP$ GDP      133 non-null    float64\n",
            "dtypes: float64(76)\n",
            "memory usage: 84.1+ KB\n"
          ]
        }
      ],
      "source": [
        "df_clean[columns_to_fill] = df_clean[columns_to_fill].fillna(0)\n",
        "df_clean = df_clean.drop(columns=columns_to_drop)\n",
        "\n",
        "df_clean.info()"
      ]
    },
    {
      "cell_type": "code",
      "execution_count": 21,
      "metadata": {
        "id": "wTc8EA8jDcEj"
      },
      "outputs": [
        {
          "data": {
            "text/html": [
              "<div>\n",
              "<style scoped>\n",
              "    .dataframe tbody tr th:only-of-type {\n",
              "        vertical-align: middle;\n",
              "    }\n",
              "\n",
              "    .dataframe tbody tr th {\n",
              "        vertical-align: top;\n",
              "    }\n",
              "\n",
              "    .dataframe thead th {\n",
              "        text-align: right;\n",
              "    }\n",
              "</style>\n",
              "<table border=\"1\" class=\"dataframe\">\n",
              "  <thead>\n",
              "    <tr style=\"text-align: right;\">\n",
              "      <th></th>\n",
              "      <th>Applied tariff rate, weighted avg., %</th>\n",
              "      <th>Citable documents H-index</th>\n",
              "      <th>Creative goods exports, % total trade</th>\n",
              "      <th>Cultural and creative services exports, % total trade</th>\n",
              "      <th>Domestic credit to private sector, % GDP</th>\n",
              "      <th>Domestic industry diversification</th>\n",
              "      <th>Domestic market scale, bn PPP$</th>\n",
              "      <th>E-participation*</th>\n",
              "      <th>Electricity output, GWh/mn pop.</th>\n",
              "      <th>Entrepreneurship policies and culture†</th>\n",
              "      <th>...</th>\n",
              "      <th>Tertiary enrolment, % gross</th>\n",
              "      <th>Tertiary inbound mobility, %</th>\n",
              "      <th>Top-level domains (TLDs)/th pop. 15–69</th>\n",
              "      <th>Trademarks by origin/bn PPP$ GDP</th>\n",
              "      <th>Unicorn valuation, % GDP</th>\n",
              "      <th>University–industry R&amp;D collaboration†</th>\n",
              "      <th>Utility models by origin/bn PPP$ GDP</th>\n",
              "      <th>VC received, value, % GDP</th>\n",
              "      <th>VC recipients, deals/bn PPP$ GDP</th>\n",
              "      <th>Venture capital (VC) investors, deals/bn PPP$ GDP</th>\n",
              "    </tr>\n",
              "    <tr>\n",
              "      <th>ECONOMY_NAME</th>\n",
              "      <th></th>\n",
              "      <th></th>\n",
              "      <th></th>\n",
              "      <th></th>\n",
              "      <th></th>\n",
              "      <th></th>\n",
              "      <th></th>\n",
              "      <th></th>\n",
              "      <th></th>\n",
              "      <th></th>\n",
              "      <th></th>\n",
              "      <th></th>\n",
              "      <th></th>\n",
              "      <th></th>\n",
              "      <th></th>\n",
              "      <th></th>\n",
              "      <th></th>\n",
              "      <th></th>\n",
              "      <th></th>\n",
              "      <th></th>\n",
              "      <th></th>\n",
              "    </tr>\n",
              "  </thead>\n",
              "  <tbody>\n",
              "    <tr>\n",
              "      <th>Albania</th>\n",
              "      <td>92.210521</td>\n",
              "      <td>2.978723</td>\n",
              "      <td>0.015020</td>\n",
              "      <td>29.215047</td>\n",
              "      <td>10.006151</td>\n",
              "      <td>90.885519</td>\n",
              "      <td>0.999635</td>\n",
              "      <td>75.585798</td>\n",
              "      <td>9.349493</td>\n",
              "      <td>0.000000</td>\n",
              "      <td>...</td>\n",
              "      <td>40.060361</td>\n",
              "      <td>3.800283</td>\n",
              "      <td>4.665280</td>\n",
              "      <td>19.538857</td>\n",
              "      <td>0.000000</td>\n",
              "      <td>59.694859</td>\n",
              "      <td>0.590961</td>\n",
              "      <td>0.367975</td>\n",
              "      <td>5.472364</td>\n",
              "      <td>0.000000</td>\n",
              "    </tr>\n",
              "    <tr>\n",
              "      <th>Algeria</th>\n",
              "      <td>0.000000</td>\n",
              "      <td>10.159574</td>\n",
              "      <td>0.155159</td>\n",
              "      <td>0.263551</td>\n",
              "      <td>4.963085</td>\n",
              "      <td>14.199843</td>\n",
              "      <td>12.345052</td>\n",
              "      <td>20.935230</td>\n",
              "      <td>7.141591</td>\n",
              "      <td>0.000000</td>\n",
              "      <td>...</td>\n",
              "      <td>33.666366</td>\n",
              "      <td>1.178168</td>\n",
              "      <td>0.259106</td>\n",
              "      <td>14.238961</td>\n",
              "      <td>0.000000</td>\n",
              "      <td>54.663444</td>\n",
              "      <td>0.000000</td>\n",
              "      <td>4.751620</td>\n",
              "      <td>0.276453</td>\n",
              "      <td>0.000000</td>\n",
              "    </tr>\n",
              "    <tr>\n",
              "      <th>Angola</th>\n",
              "      <td>43.866376</td>\n",
              "      <td>0.851064</td>\n",
              "      <td>0.098477</td>\n",
              "      <td>0.000000</td>\n",
              "      <td>0.000000</td>\n",
              "      <td>0.000000</td>\n",
              "      <td>5.046224</td>\n",
              "      <td>15.123299</td>\n",
              "      <td>1.716850</td>\n",
              "      <td>14.196904</td>\n",
              "      <td>...</td>\n",
              "      <td>4.652238</td>\n",
              "      <td>0.000000</td>\n",
              "      <td>0.065191</td>\n",
              "      <td>8.167782</td>\n",
              "      <td>0.000000</td>\n",
              "      <td>0.639246</td>\n",
              "      <td>1.106400</td>\n",
              "      <td>0.000000</td>\n",
              "      <td>0.000000</td>\n",
              "      <td>0.000000</td>\n",
              "    </tr>\n",
              "    <tr>\n",
              "      <th>Argentina</th>\n",
              "      <td>54.224936</td>\n",
              "      <td>27.659574</td>\n",
              "      <td>0.529521</td>\n",
              "      <td>28.728915</td>\n",
              "      <td>2.947834</td>\n",
              "      <td>81.372727</td>\n",
              "      <td>24.432256</td>\n",
              "      <td>63.951704</td>\n",
              "      <td>11.641123</td>\n",
              "      <td>2.104992</td>\n",
              "      <td>...</td>\n",
              "      <td>70.485044</td>\n",
              "      <td>8.077687</td>\n",
              "      <td>4.149858</td>\n",
              "      <td>44.241083</td>\n",
              "      <td>7.863705</td>\n",
              "      <td>37.021758</td>\n",
              "      <td>4.290896</td>\n",
              "      <td>5.431742</td>\n",
              "      <td>4.196656</td>\n",
              "      <td>1.607256</td>\n",
              "    </tr>\n",
              "    <tr>\n",
              "      <th>Armenia</th>\n",
              "      <td>71.139047</td>\n",
              "      <td>9.946809</td>\n",
              "      <td>39.661030</td>\n",
              "      <td>11.251010</td>\n",
              "      <td>17.290359</td>\n",
              "      <td>72.020385</td>\n",
              "      <td>1.050496</td>\n",
              "      <td>56.973294</td>\n",
              "      <td>10.481087</td>\n",
              "      <td>48.328560</td>\n",
              "      <td>...</td>\n",
              "      <td>38.055601</td>\n",
              "      <td>18.733270</td>\n",
              "      <td>4.152156</td>\n",
              "      <td>80.880401</td>\n",
              "      <td>0.000000</td>\n",
              "      <td>25.738732</td>\n",
              "      <td>47.278535</td>\n",
              "      <td>0.511027</td>\n",
              "      <td>16.983590</td>\n",
              "      <td>2.591861</td>\n",
              "    </tr>\n",
              "  </tbody>\n",
              "</table>\n",
              "<p>5 rows × 76 columns</p>\n",
              "</div>"
            ],
            "text/plain": [
              "              Applied tariff rate, weighted avg., %  \\\n",
              "ECONOMY_NAME                                          \n",
              "Albania                                   92.210521   \n",
              "Algeria                                    0.000000   \n",
              "Angola                                    43.866376   \n",
              "Argentina                                 54.224936   \n",
              "Armenia                                   71.139047   \n",
              "\n",
              "              Citable documents H-index  \\\n",
              "ECONOMY_NAME                              \n",
              "Albania                        2.978723   \n",
              "Algeria                       10.159574   \n",
              "Angola                         0.851064   \n",
              "Argentina                     27.659574   \n",
              "Armenia                        9.946809   \n",
              "\n",
              "              Creative goods exports, % total trade  \\\n",
              "ECONOMY_NAME                                          \n",
              "Albania                                    0.015020   \n",
              "Algeria                                    0.155159   \n",
              "Angola                                     0.098477   \n",
              "Argentina                                  0.529521   \n",
              "Armenia                                   39.661030   \n",
              "\n",
              "              Cultural and creative services exports, % total trade  \\\n",
              "ECONOMY_NAME                                                          \n",
              "Albania                                               29.215047       \n",
              "Algeria                                                0.263551       \n",
              "Angola                                                 0.000000       \n",
              "Argentina                                             28.728915       \n",
              "Armenia                                               11.251010       \n",
              "\n",
              "              Domestic credit to private sector, % GDP  \\\n",
              "ECONOMY_NAME                                             \n",
              "Albania                                      10.006151   \n",
              "Algeria                                       4.963085   \n",
              "Angola                                        0.000000   \n",
              "Argentina                                     2.947834   \n",
              "Armenia                                      17.290359   \n",
              "\n",
              "              Domestic industry diversification  \\\n",
              "ECONOMY_NAME                                      \n",
              "Albania                               90.885519   \n",
              "Algeria                               14.199843   \n",
              "Angola                                 0.000000   \n",
              "Argentina                             81.372727   \n",
              "Armenia                               72.020385   \n",
              "\n",
              "              Domestic market scale, bn PPP$  E-participation*  \\\n",
              "ECONOMY_NAME                                                     \n",
              "Albania                             0.999635         75.585798   \n",
              "Algeria                            12.345052         20.935230   \n",
              "Angola                              5.046224         15.123299   \n",
              "Argentina                          24.432256         63.951704   \n",
              "Armenia                             1.050496         56.973294   \n",
              "\n",
              "              Electricity output, GWh/mn pop.  \\\n",
              "ECONOMY_NAME                                    \n",
              "Albania                              9.349493   \n",
              "Algeria                              7.141591   \n",
              "Angola                               1.716850   \n",
              "Argentina                           11.641123   \n",
              "Armenia                             10.481087   \n",
              "\n",
              "              Entrepreneurship policies and culture†  ...  \\\n",
              "ECONOMY_NAME                                          ...   \n",
              "Albania                                     0.000000  ...   \n",
              "Algeria                                     0.000000  ...   \n",
              "Angola                                     14.196904  ...   \n",
              "Argentina                                   2.104992  ...   \n",
              "Armenia                                    48.328560  ...   \n",
              "\n",
              "              Tertiary enrolment, % gross  Tertiary inbound mobility, %  \\\n",
              "ECONOMY_NAME                                                              \n",
              "Albania                         40.060361                      3.800283   \n",
              "Algeria                         33.666366                      1.178168   \n",
              "Angola                           4.652238                      0.000000   \n",
              "Argentina                       70.485044                      8.077687   \n",
              "Armenia                         38.055601                     18.733270   \n",
              "\n",
              "              Top-level domains (TLDs)/th pop. 15–69  \\\n",
              "ECONOMY_NAME                                           \n",
              "Albania                                     4.665280   \n",
              "Algeria                                     0.259106   \n",
              "Angola                                      0.065191   \n",
              "Argentina                                   4.149858   \n",
              "Armenia                                     4.152156   \n",
              "\n",
              "              Trademarks by origin/bn PPP$ GDP  Unicorn valuation, % GDP  \\\n",
              "ECONOMY_NAME                                                               \n",
              "Albania                              19.538857                  0.000000   \n",
              "Algeria                              14.238961                  0.000000   \n",
              "Angola                                8.167782                  0.000000   \n",
              "Argentina                            44.241083                  7.863705   \n",
              "Armenia                              80.880401                  0.000000   \n",
              "\n",
              "              University–industry R&D collaboration†  \\\n",
              "ECONOMY_NAME                                           \n",
              "Albania                                    59.694859   \n",
              "Algeria                                    54.663444   \n",
              "Angola                                      0.639246   \n",
              "Argentina                                  37.021758   \n",
              "Armenia                                    25.738732   \n",
              "\n",
              "              Utility models by origin/bn PPP$ GDP  VC received, value, % GDP  \\\n",
              "ECONOMY_NAME                                                                    \n",
              "Albania                                   0.590961                   0.367975   \n",
              "Algeria                                   0.000000                   4.751620   \n",
              "Angola                                    1.106400                   0.000000   \n",
              "Argentina                                 4.290896                   5.431742   \n",
              "Armenia                                  47.278535                   0.511027   \n",
              "\n",
              "              VC recipients, deals/bn PPP$ GDP  \\\n",
              "ECONOMY_NAME                                     \n",
              "Albania                               5.472364   \n",
              "Algeria                               0.276453   \n",
              "Angola                                0.000000   \n",
              "Argentina                             4.196656   \n",
              "Armenia                              16.983590   \n",
              "\n",
              "              Venture capital (VC) investors, deals/bn PPP$ GDP  \n",
              "ECONOMY_NAME                                                     \n",
              "Albania                                                0.000000  \n",
              "Algeria                                                0.000000  \n",
              "Angola                                                 0.000000  \n",
              "Argentina                                              1.607256  \n",
              "Armenia                                                2.591861  \n",
              "\n",
              "[5 rows x 76 columns]"
            ]
          },
          "execution_count": 21,
          "metadata": {},
          "output_type": "execute_result"
        }
      ],
      "source": [
        "df_clean.head()"
      ]
    },
    {
      "cell_type": "code",
      "execution_count": 22,
      "metadata": {
        "id": "3LsNwqjQDcEj"
      },
      "outputs": [],
      "source": [
        "df_clean.to_csv(\"Innovation_Index.csv\")"
      ]
    },
    {
      "cell_type": "code",
      "execution_count": 23,
      "metadata": {
        "id": "hYUHQ0qUDcEj"
      },
      "outputs": [],
      "source": [
        "X = df_clean.drop(columns=[\"Global Innovation Index\"])\n",
        "y = df_clean[\"Global Innovation Index\"]"
      ]
    },
    {
      "cell_type": "code",
      "execution_count": 24,
      "metadata": {
        "id": "ETGHiUXRDcEj"
      },
      "outputs": [],
      "source": [
        "X_train, X_test, y_train, y_test = train_test_split(X, y, test_size=0.2, random_state=42)"
      ]
    },
    {
      "cell_type": "markdown",
      "metadata": {
        "id": "2RftQlNWDcEj"
      },
      "source": [
        "## Linear Regression"
      ]
    },
    {
      "cell_type": "markdown",
      "metadata": {
        "id": "YTM68e6qDcEj"
      },
      "source": [
        "### Training the Model"
      ]
    },
    {
      "cell_type": "code",
      "execution_count": 25,
      "metadata": {
        "id": "oDAUms5KDcEj"
      },
      "outputs": [],
      "source": [
        "# Initialize and train Linear Regression model\n",
        "model = LinearRegression()\n",
        "model.fit(X_train, y_train)\n",
        "\n",
        "# Make predictions\n",
        "y_pred = model.predict(X_test)\n",
        "\n",
        "# Evaluate model performance\n",
        "mae = mean_absolute_error(y_test, y_pred)\n",
        "mse = mean_squared_error(y_test, y_pred)\n",
        "rmse = mse ** 0.5  # Root Mean Squared Error\n",
        "r2 = r2_score(y_test, y_pred)\n",
        "\n",
        "# Display results\n",
        "model_performance_LR = pd.DataFrame({\n",
        "    \"Metric\": [\"Mean Absolute Error (MAE)\", \"Mean Squared Error (MSE)\", \"Root Mean Squared Error (RMSE)\", \"R-squared (R²)\"],\n",
        "    \"Value\": [mae, mse, rmse, r2]\n",
        "})"
      ]
    },
    {
      "cell_type": "code",
      "execution_count": 26,
      "metadata": {
        "id": "hIU6JP_-DcEk"
      },
      "outputs": [
        {
          "data": {
            "text/html": [
              "<div>\n",
              "<style scoped>\n",
              "    .dataframe tbody tr th:only-of-type {\n",
              "        vertical-align: middle;\n",
              "    }\n",
              "\n",
              "    .dataframe tbody tr th {\n",
              "        vertical-align: top;\n",
              "    }\n",
              "\n",
              "    .dataframe thead th {\n",
              "        text-align: right;\n",
              "    }\n",
              "</style>\n",
              "<table border=\"1\" class=\"dataframe\">\n",
              "  <thead>\n",
              "    <tr style=\"text-align: right;\">\n",
              "      <th></th>\n",
              "      <th>Metric</th>\n",
              "      <th>Value</th>\n",
              "    </tr>\n",
              "  </thead>\n",
              "  <tbody>\n",
              "    <tr>\n",
              "      <th>0</th>\n",
              "      <td>Mean Absolute Error (MAE)</td>\n",
              "      <td>2.192305</td>\n",
              "    </tr>\n",
              "    <tr>\n",
              "      <th>1</th>\n",
              "      <td>Mean Squared Error (MSE)</td>\n",
              "      <td>8.479483</td>\n",
              "    </tr>\n",
              "    <tr>\n",
              "      <th>2</th>\n",
              "      <td>Root Mean Squared Error (RMSE)</td>\n",
              "      <td>2.911955</td>\n",
              "    </tr>\n",
              "    <tr>\n",
              "      <th>3</th>\n",
              "      <td>R-squared (R²)</td>\n",
              "      <td>0.966034</td>\n",
              "    </tr>\n",
              "  </tbody>\n",
              "</table>\n",
              "</div>"
            ],
            "text/plain": [
              "                           Metric     Value\n",
              "0       Mean Absolute Error (MAE)  2.192305\n",
              "1        Mean Squared Error (MSE)  8.479483\n",
              "2  Root Mean Squared Error (RMSE)  2.911955\n",
              "3                  R-squared (R²)  0.966034"
            ]
          },
          "execution_count": 26,
          "metadata": {},
          "output_type": "execute_result"
        }
      ],
      "source": [
        "model_performance_LR"
      ]
    },
    {
      "cell_type": "markdown",
      "metadata": {
        "id": "pD0X4-24DcEk"
      },
      "source": [
        "### Feature Importance"
      ]
    },
    {
      "cell_type": "code",
      "execution_count": 27,
      "metadata": {
        "id": "RbqV_gzjDcEk"
      },
      "outputs": [
        {
          "data": {
            "text/html": [
              "<div>\n",
              "<style scoped>\n",
              "    .dataframe tbody tr th:only-of-type {\n",
              "        vertical-align: middle;\n",
              "    }\n",
              "\n",
              "    .dataframe tbody tr th {\n",
              "        vertical-align: top;\n",
              "    }\n",
              "\n",
              "    .dataframe thead th {\n",
              "        text-align: right;\n",
              "    }\n",
              "</style>\n",
              "<table border=\"1\" class=\"dataframe\">\n",
              "  <thead>\n",
              "    <tr style=\"text-align: right;\">\n",
              "      <th></th>\n",
              "      <th>Indicators</th>\n",
              "      <th>Importance</th>\n",
              "    </tr>\n",
              "  </thead>\n",
              "  <tbody>\n",
              "    <tr>\n",
              "      <th>17</th>\n",
              "      <td>GERD performed by business, % GDP</td>\n",
              "      <td>0.167569</td>\n",
              "    </tr>\n",
              "    <tr>\n",
              "      <th>26</th>\n",
              "      <td>Gross expenditure on R&amp;D, % GDP</td>\n",
              "      <td>0.143029</td>\n",
              "    </tr>\n",
              "    <tr>\n",
              "      <th>18</th>\n",
              "      <td>GitHub commits/mn pop. 15–69</td>\n",
              "      <td>0.075365</td>\n",
              "    </tr>\n",
              "    <tr>\n",
              "      <th>35</th>\n",
              "      <td>ISO 9001 quality/bn PPP$ GDP</td>\n",
              "      <td>0.074261</td>\n",
              "    </tr>\n",
              "    <tr>\n",
              "      <th>19</th>\n",
              "      <td>Global brand value, top 5,000, % GDP</td>\n",
              "      <td>0.064011</td>\n",
              "    </tr>\n",
              "    <tr>\n",
              "      <th>...</th>\n",
              "      <td>...</td>\n",
              "      <td>...</td>\n",
              "    </tr>\n",
              "    <tr>\n",
              "      <th>51</th>\n",
              "      <td>Patents by origin/bn PPP$ GDP</td>\n",
              "      <td>0.001432</td>\n",
              "    </tr>\n",
              "    <tr>\n",
              "      <th>9</th>\n",
              "      <td>Entrepreneurship policies and culture†</td>\n",
              "      <td>0.001373</td>\n",
              "    </tr>\n",
              "    <tr>\n",
              "      <th>2</th>\n",
              "      <td>Creative goods exports, % total trade</td>\n",
              "      <td>0.001290</td>\n",
              "    </tr>\n",
              "    <tr>\n",
              "      <th>25</th>\n",
              "      <td>Gross capital formation, % GDP</td>\n",
              "      <td>0.000562</td>\n",
              "    </tr>\n",
              "    <tr>\n",
              "      <th>0</th>\n",
              "      <td>Applied tariff rate, weighted avg., %</td>\n",
              "      <td>0.000208</td>\n",
              "    </tr>\n",
              "  </tbody>\n",
              "</table>\n",
              "<p>75 rows × 2 columns</p>\n",
              "</div>"
            ],
            "text/plain": [
              "                                Indicators  Importance\n",
              "17       GERD performed by business, % GDP    0.167569\n",
              "26         Gross expenditure on R&D, % GDP    0.143029\n",
              "18            GitHub commits/mn pop. 15–69    0.075365\n",
              "35            ISO 9001 quality/bn PPP$ GDP    0.074261\n",
              "19    Global brand value, top 5,000, % GDP    0.064011\n",
              "..                                     ...         ...\n",
              "51           Patents by origin/bn PPP$ GDP    0.001432\n",
              "9   Entrepreneurship policies and culture†    0.001373\n",
              "2    Creative goods exports, % total trade    0.001290\n",
              "25          Gross capital formation, % GDP    0.000562\n",
              "0    Applied tariff rate, weighted avg., %    0.000208\n",
              "\n",
              "[75 rows x 2 columns]"
            ]
          },
          "execution_count": 27,
          "metadata": {},
          "output_type": "execute_result"
        }
      ],
      "source": [
        "# Extract feature names\n",
        "feature_names = X.columns\n",
        "\n",
        "# Get absolute values of coefficients\n",
        "feature_importance = np.abs(model.coef_)\n",
        "\n",
        "# Create a DataFrame for better visualization\n",
        "importance_df = pd.DataFrame({\"Indicators\": feature_names, \"Importance\": feature_importance})\n",
        "\n",
        "# Sort by importance (descending order)\n",
        "importance_df = importance_df.sort_values(by=\"Importance\", ascending=False)\n",
        "\n",
        "# Display results\n",
        "importance_df"
      ]
    },
    {
      "cell_type": "code",
      "execution_count": 28,
      "metadata": {
        "id": "SJsQhYJCDcEk"
      },
      "outputs": [
        {
          "data": {
            "image/png": "[encoded data removed]",
            "text/plain": [
              "<Figure size 1200x600 with 1 Axes>"
            ]
          },
          "metadata": {},
          "output_type": "display_data"
        }
      ],
      "source": [
        "# Plot feature importance\n",
        "plt.figure(figsize=(12, 6))\n",
        "plt.barh(importance_df[\"Indicators\"][:10], importance_df[\"Importance\"][:10])\n",
        "plt.xlabel(\"Importance (Absolute Coefficients)\")\n",
        "plt.ylabel(\"Feature\")\n",
        "plt.title(\"Top 10 Feature Importances in Linear Regression\")\n",
        "plt.gca().invert_yaxis()  # Invert to show highest importance at top\n",
        "plt.show()"
      ]
    },
    {
      "cell_type": "markdown",
      "metadata": {
        "id": "sGMHKVO2DcEk"
      },
      "source": [
        "### Retrieve the Rank for Canada"
      ]
    },
    {
      "cell_type": "code",
      "execution_count": 29,
      "metadata": {
        "id": "LnmfbD4ZDcEk"
      },
      "outputs": [
        {
          "name": "stdout",
          "output_type": "stream",
          "text": [
            "     ECONOMY_NAME                                  NAME      SCORE  RANK\n",
            "2785       Canada     GERD performed by business, % GDP  24.241412  21.0\n",
            "2750       Canada       Gross expenditure on R&D, % GDP  28.315171  21.0\n",
            "2832       Canada          GitHub commits/mn pop. 15–69  66.609483  11.0\n",
            "2818       Canada          ISO 9001 quality/bn PPP$ GDP   7.057194  83.0\n",
            "2823       Canada  Global brand value, top 5,000, % GDP  50.412682  13.0\n",
            "2822       Canada      Trademarks by origin/bn PPP$ GDP  17.124073  77.0\n",
            "2730       Canada             Government effectiveness*  84.910537  11.0\n",
            "2733       Canada                          Rule of law*  88.753639  12.0\n",
            "2812       Canada            High-tech manufacturing, %  38.010491  36.0\n",
            "2816       Canada      High-tech exports, % total trade  20.542586  37.0\n"
          ]
        }
      ],
      "source": [
        "# Ensure most_important_feature is in a list format\n",
        "top_10_features = importance_df[\"Indicators\"][:10].tolist()\n",
        "\n",
        "# Filter df to get the row where NAME matches the most important features\n",
        "feature_ranking_df = df[df[\"NAME\"].isin(top_10_features)][[\"ECONOMY_NAME\", \"NAME\", \"SCORE\", \"RANK\"]]\n",
        "\n",
        "# Get Canada's rank\n",
        "canada_rank = feature_ranking_df[feature_ranking_df[\"ECONOMY_NAME\"] == \"Canada\"].copy()  # Explicit copy to avoid warning\n",
        "canada_rank[\"NAME\"] = pd.Categorical(canada_rank[\"NAME\"], categories=top_10_features, ordered=True)\n",
        "canada_rank = canada_rank.sort_values(by=\"NAME\")\n",
        "\n",
        "# Display results\n",
        "pd.set_option('display.width', 400)\n",
        "print(canada_rank)\n"
      ]
    },
    {
      "cell_type": "markdown",
      "metadata": {
        "id": "hIyhnnX2DcEk"
      },
      "source": [
        "## LASSO Regression"
      ]
    },
    {
      "cell_type": "markdown",
      "metadata": {
        "id": "38sNuQwODcEk"
      },
      "source": [
        "### Train the Model"
      ]
    },
    {
      "cell_type": "code",
      "execution_count": 30,
      "metadata": {
        "id": "be2g_GS0DcEk"
      },
      "outputs": [
        {
          "name": "stdout",
          "output_type": "stream",
          "text": [
            "Best Alpha (L1 regularization strength): 0.7742636826811278\n"
          ]
        }
      ],
      "source": [
        "# Define the hyperparameter grid for alpha (L1 regularization strength)\n",
        "param_grid = {\"alpha\": np.logspace(-4, 1, 10)}  # Search alpha values from 10^-4 to 10^1\n",
        "\n",
        "# Use GridSearchCV to find the best alpha\n",
        "lasso = Lasso()\n",
        "grid_search = GridSearchCV(lasso, param_grid, cv=5, scoring=\"r2\", n_jobs=-1)\n",
        "grid_search.fit(X_train, y_train)\n",
        "\n",
        "# Get the best hyperparameter\n",
        "best_alpha = grid_search.best_params_[\"alpha\"]\n",
        "print(f\"Best Alpha (L1 regularization strength): {best_alpha}\")\n",
        "\n",
        "# Train the Lasso model with the best alpha\n",
        "best_lasso = Lasso(alpha=best_alpha)\n",
        "best_lasso.fit(X_train, y_train)\n",
        "\n",
        "# Make predictions\n",
        "y_pred = best_lasso.predict(X_test)\n",
        "\n",
        "# Evaluate the final model\n",
        "mae = mean_absolute_error(y_test, y_pred)\n",
        "mse = mean_squared_error(y_test, y_pred)\n",
        "rmse = np.sqrt(mse)  # Root Mean Squared Error\n",
        "r2 = r2_score(y_test, y_pred)\n",
        "\n",
        "# Display results\n",
        "model_performance_LASSO = pd.DataFrame({\n",
        "    \"Metric\": [\"Mean Absolute Error (MAE)\", \"Mean Squared Error (MSE)\", \"Root Mean Squared Error (RMSE)\", \"R-squared (R²)\"],\n",
        "    \"Value\": [mae, mse, rmse, r2]\n",
        "})"
      ]
    },
    {
      "cell_type": "code",
      "execution_count": 31,
      "metadata": {
        "id": "JHMZJCxWDcEk"
      },
      "outputs": [
        {
          "data": {
            "text/html": [
              "<div>\n",
              "<style scoped>\n",
              "    .dataframe tbody tr th:only-of-type {\n",
              "        vertical-align: middle;\n",
              "    }\n",
              "\n",
              "    .dataframe tbody tr th {\n",
              "        vertical-align: top;\n",
              "    }\n",
              "\n",
              "    .dataframe thead th {\n",
              "        text-align: right;\n",
              "    }\n",
              "</style>\n",
              "<table border=\"1\" class=\"dataframe\">\n",
              "  <thead>\n",
              "    <tr style=\"text-align: right;\">\n",
              "      <th></th>\n",
              "      <th>Metric</th>\n",
              "      <th>Value</th>\n",
              "    </tr>\n",
              "  </thead>\n",
              "  <tbody>\n",
              "    <tr>\n",
              "      <th>0</th>\n",
              "      <td>Mean Absolute Error (MAE)</td>\n",
              "      <td>1.319576</td>\n",
              "    </tr>\n",
              "    <tr>\n",
              "      <th>1</th>\n",
              "      <td>Mean Squared Error (MSE)</td>\n",
              "      <td>2.860244</td>\n",
              "    </tr>\n",
              "    <tr>\n",
              "      <th>2</th>\n",
              "      <td>Root Mean Squared Error (RMSE)</td>\n",
              "      <td>1.691226</td>\n",
              "    </tr>\n",
              "    <tr>\n",
              "      <th>3</th>\n",
              "      <td>R-squared (R²)</td>\n",
              "      <td>0.988543</td>\n",
              "    </tr>\n",
              "  </tbody>\n",
              "</table>\n",
              "</div>"
            ],
            "text/plain": [
              "                           Metric     Value\n",
              "0       Mean Absolute Error (MAE)  1.319576\n",
              "1        Mean Squared Error (MSE)  2.860244\n",
              "2  Root Mean Squared Error (RMSE)  1.691226\n",
              "3                  R-squared (R²)  0.988543"
            ]
          },
          "execution_count": 31,
          "metadata": {},
          "output_type": "execute_result"
        }
      ],
      "source": [
        "model_performance_LASSO"
      ]
    },
    {
      "cell_type": "markdown",
      "metadata": {
        "id": "b369wYEFDcEk"
      },
      "source": [
        "### Feature Importance"
      ]
    },
    {
      "cell_type": "code",
      "execution_count": 32,
      "metadata": {
        "id": "ZZB5s4gjDcEl"
      },
      "outputs": [],
      "source": [
        "# Extract feature importance from the best Lasso model\n",
        "feature_names = X.columns\n",
        "feature_importance = np.abs(best_lasso.coef_)  # Lasso can shrink coefficients to zero\n",
        "\n",
        "# Create a DataFrame for visualization\n",
        "lasso_importance_df = pd.DataFrame({\"Indicators\": feature_names, \"Importance\": feature_importance})\n",
        "\n",
        "# Sort by importance (descending order)\n",
        "lasso_importance_df = lasso_importance_df.sort_values(by=\"Importance\", ascending=False)"
      ]
    },
    {
      "cell_type": "code",
      "execution_count": 33,
      "metadata": {
        "id": "Ybl2TPMBDcEl"
      },
      "outputs": [
        {
          "data": {
            "text/html": [
              "<div>\n",
              "<style scoped>\n",
              "    .dataframe tbody tr th:only-of-type {\n",
              "        vertical-align: middle;\n",
              "    }\n",
              "\n",
              "    .dataframe tbody tr th {\n",
              "        vertical-align: top;\n",
              "    }\n",
              "\n",
              "    .dataframe thead th {\n",
              "        text-align: right;\n",
              "    }\n",
              "</style>\n",
              "<table border=\"1\" class=\"dataframe\">\n",
              "  <thead>\n",
              "    <tr style=\"text-align: right;\">\n",
              "      <th></th>\n",
              "      <th>Indicators</th>\n",
              "      <th>Importance</th>\n",
              "    </tr>\n",
              "  </thead>\n",
              "  <tbody>\n",
              "    <tr>\n",
              "      <th>18</th>\n",
              "      <td>GitHub commits/mn pop. 15–69</td>\n",
              "      <td>0.065090</td>\n",
              "    </tr>\n",
              "    <tr>\n",
              "      <th>21</th>\n",
              "      <td>Government effectiveness*</td>\n",
              "      <td>0.054507</td>\n",
              "    </tr>\n",
              "    <tr>\n",
              "      <th>19</th>\n",
              "      <td>Global brand value, top 5,000, % GDP</td>\n",
              "      <td>0.053499</td>\n",
              "    </tr>\n",
              "    <tr>\n",
              "      <th>68</th>\n",
              "      <td>Trademarks by origin/bn PPP$ GDP</td>\n",
              "      <td>0.046206</td>\n",
              "    </tr>\n",
              "    <tr>\n",
              "      <th>56</th>\n",
              "      <td>QS university ranking, top 3*</td>\n",
              "      <td>0.040717</td>\n",
              "    </tr>\n",
              "    <tr>\n",
              "      <th>...</th>\n",
              "      <td>...</td>\n",
              "      <td>...</td>\n",
              "    </tr>\n",
              "    <tr>\n",
              "      <th>43</th>\n",
              "      <td>Low-carbon energy use, %</td>\n",
              "      <td>0.000000</td>\n",
              "    </tr>\n",
              "    <tr>\n",
              "      <th>46</th>\n",
              "      <td>National feature films/mn pop. 15–69</td>\n",
              "      <td>0.000000</td>\n",
              "    </tr>\n",
              "    <tr>\n",
              "      <th>47</th>\n",
              "      <td>Operational stability for businesses*</td>\n",
              "      <td>0.000000</td>\n",
              "    </tr>\n",
              "    <tr>\n",
              "      <th>64</th>\n",
              "      <td>State of cluster development†</td>\n",
              "      <td>0.000000</td>\n",
              "    </tr>\n",
              "    <tr>\n",
              "      <th>70</th>\n",
              "      <td>University–industry R&amp;D collaboration†</td>\n",
              "      <td>0.000000</td>\n",
              "    </tr>\n",
              "  </tbody>\n",
              "</table>\n",
              "<p>75 rows × 2 columns</p>\n",
              "</div>"
            ],
            "text/plain": [
              "                                Indicators  Importance\n",
              "18            GitHub commits/mn pop. 15–69    0.065090\n",
              "21               Government effectiveness*    0.054507\n",
              "19    Global brand value, top 5,000, % GDP    0.053499\n",
              "68        Trademarks by origin/bn PPP$ GDP    0.046206\n",
              "56           QS university ranking, top 3*    0.040717\n",
              "..                                     ...         ...\n",
              "43                Low-carbon energy use, %    0.000000\n",
              "46    National feature films/mn pop. 15–69    0.000000\n",
              "47   Operational stability for businesses*    0.000000\n",
              "64           State of cluster development†    0.000000\n",
              "70  University–industry R&D collaboration†    0.000000\n",
              "\n",
              "[75 rows x 2 columns]"
            ]
          },
          "execution_count": 33,
          "metadata": {},
          "output_type": "execute_result"
        }
      ],
      "source": [
        "lasso_importance_df"
      ]
    },
    {
      "cell_type": "code",
      "execution_count": 34,
      "metadata": {
        "id": "--BZzpeeDcEl"
      },
      "outputs": [
        {
          "data": {
            "image/png": "[encoded data removed]",
            "text/plain": [
              "<Figure size 1200x600 with 1 Axes>"
            ]
          },
          "metadata": {},
          "output_type": "display_data"
        }
      ],
      "source": [
        "plt.figure(figsize=(12, 6))\n",
        "plt.barh(lasso_importance_df[\"Indicators\"][:10], lasso_importance_df[\"Importance\"][:10], color='blue')\n",
        "plt.xlabel(\"Importance (Absolute Coefficients)\")\n",
        "plt.ylabel(\"Indicators\")\n",
        "plt.title(\"Top 10 Feature Importances in Lasso (L1) Regression\")\n",
        "plt.gca().invert_yaxis()  # Invert to show highest importance at top\n",
        "plt.show()"
      ]
    },
    {
      "cell_type": "markdown",
      "metadata": {
        "id": "hF9eSL6oDcEl"
      },
      "source": [
        "### Retrieve the Rank for Canada"
      ]
    },
    {
      "cell_type": "code",
      "execution_count": 35,
      "metadata": {
        "id": "xSFsX_EZDcEl"
      },
      "outputs": [
        {
          "name": "stdout",
          "output_type": "stream",
          "text": [
            "     ECONOMY_NAME                                      NAME      SCORE  RANK\n",
            "2832       Canada              GitHub commits/mn pop. 15–69  66.609483  11.0\n",
            "2730       Canada                 Government effectiveness*  84.910537  11.0\n",
            "2823       Canada      Global brand value, top 5,000, % GDP  50.412682  13.0\n",
            "2822       Canada          Trademarks by origin/bn PPP$ GDP  17.124073  77.0\n",
            "2752       Canada             QS university ranking, top 3*  84.851552   4.0\n",
            "2770       Canada  Domestic credit to private sector, % GDP        NaN   NaN\n",
            "2824       Canada  Industrial designs by origin/bn PPP$ GDP   2.960109  89.0\n",
            "2816       Canada          High-tech exports, % total trade  20.542586  37.0\n",
            "2776       Canada                 VC received, value, % GDP  66.817231  10.0\n",
            "2812       Canada                High-tech manufacturing, %  38.010491  36.0\n"
          ]
        }
      ],
      "source": [
        "# Ensure most_important_feature is in a list format\n",
        "top_10_features = lasso_importance_df[\"Indicators\"][:10].tolist()\n",
        "\n",
        "# Filter df to get the row where NAME matches the most important features\n",
        "feature_ranking_df = df[df[\"NAME\"].isin(top_10_features)][[\"ECONOMY_NAME\", \"NAME\", \"SCORE\", \"RANK\"]]\n",
        "\n",
        "# Get Canada's rank\n",
        "canada_rank = feature_ranking_df[feature_ranking_df[\"ECONOMY_NAME\"] == \"Canada\"].copy()  # Explicit copy to avoid warning\n",
        "canada_rank[\"NAME\"] = pd.Categorical(canada_rank[\"NAME\"], categories=top_10_features, ordered=True)\n",
        "canada_rank = canada_rank.sort_values(by=\"NAME\")\n",
        "\n",
        "# Display results\n",
        "pd.set_option('display.width', 400)\n",
        "print(canada_rank)"
      ]
    },
    {
      "cell_type": "markdown",
      "metadata": {
        "id": "j1tYy3I3DcEl"
      },
      "source": [
        "## Random Forest"
      ]
    },
    {
      "cell_type": "markdown",
      "metadata": {
        "id": "tINqpILCDcEl"
      },
      "source": [
        "### Train the Model"
      ]
    },
    {
      "cell_type": "code",
      "execution_count": 36,
      "metadata": {
        "id": "D8EIVj66DcEl"
      },
      "outputs": [
        {
          "name": "stdout",
          "output_type": "stream",
          "text": [
            "Best Hyperparameters: {'max_depth': 20, 'min_samples_leaf': 1, 'min_samples_split': 2, 'n_estimators': 200}\n"
          ]
        }
      ],
      "source": [
        "# Define the hyperparameter grid\n",
        "param_grid = {\n",
        "    \"n_estimators\": [50, 100, 200],  # Number of trees\n",
        "    \"max_depth\": [10, 20, None],  # Depth of trees\n",
        "    \"min_samples_split\": [2, 5, 10],  # Minimum samples per split\n",
        "    \"min_samples_leaf\": [1, 2, 4],  # Minimum samples per leaf\n",
        "}\n",
        "\n",
        "# Initialize Random Forest model\n",
        "rf = RandomForestRegressor(random_state=42)\n",
        "\n",
        "# Use GridSearchCV to find the best parameters\n",
        "grid_search = GridSearchCV(rf, param_grid, cv=5, scoring=\"r2\", n_jobs=-1)\n",
        "grid_search.fit(X_train, y_train)\n",
        "\n",
        "# Get the best parameters\n",
        "best_params = grid_search.best_params_\n",
        "print(f\"Best Hyperparameters: {best_params}\")\n",
        "\n",
        "# Train the best Random Forest model\n",
        "best_rf = RandomForestRegressor(**best_params, random_state=42)\n",
        "best_rf.fit(X_train, y_train)\n",
        "\n",
        "# Make predictions\n",
        "y_pred_rf = best_rf.predict(X_test)\n",
        "\n",
        "# Evaluate the final model\n",
        "mae_rf = mean_absolute_error(y_test, y_pred_rf)\n",
        "mse_rf = mean_squared_error(y_test, y_pred_rf)\n",
        "rmse_rf = np.sqrt(mse_rf)  # Root Mean Squared Error\n",
        "r2_rf = r2_score(y_test, y_pred_rf)\n",
        "\n",
        "# Display results\n",
        "rf_model_performance = pd.DataFrame({\n",
        "    \"Metric\": [\"Mean Absolute Error (MAE)\", \"Mean Squared Error (MSE)\", \"Root Mean Squared Error (RMSE)\", \"R-squared (R²)\"],\n",
        "    \"Value\": [mae_rf, mse_rf, rmse_rf, r2_rf]\n",
        "})"
      ]
    },
    {
      "cell_type": "code",
      "execution_count": 37,
      "metadata": {
        "id": "9dJ029mDDcEl"
      },
      "outputs": [
        {
          "data": {
            "text/html": [
              "<div>\n",
              "<style scoped>\n",
              "    .dataframe tbody tr th:only-of-type {\n",
              "        vertical-align: middle;\n",
              "    }\n",
              "\n",
              "    .dataframe tbody tr th {\n",
              "        vertical-align: top;\n",
              "    }\n",
              "\n",
              "    .dataframe thead th {\n",
              "        text-align: right;\n",
              "    }\n",
              "</style>\n",
              "<table border=\"1\" class=\"dataframe\">\n",
              "  <thead>\n",
              "    <tr style=\"text-align: right;\">\n",
              "      <th></th>\n",
              "      <th>Metric</th>\n",
              "      <th>Value</th>\n",
              "    </tr>\n",
              "  </thead>\n",
              "  <tbody>\n",
              "    <tr>\n",
              "      <th>0</th>\n",
              "      <td>Mean Absolute Error (MAE)</td>\n",
              "      <td>4.151914</td>\n",
              "    </tr>\n",
              "    <tr>\n",
              "      <th>1</th>\n",
              "      <td>Mean Squared Error (MSE)</td>\n",
              "      <td>27.628321</td>\n",
              "    </tr>\n",
              "    <tr>\n",
              "      <th>2</th>\n",
              "      <td>Root Mean Squared Error (RMSE)</td>\n",
              "      <td>5.256265</td>\n",
              "    </tr>\n",
              "    <tr>\n",
              "      <th>3</th>\n",
              "      <td>R-squared (R²)</td>\n",
              "      <td>0.889329</td>\n",
              "    </tr>\n",
              "  </tbody>\n",
              "</table>\n",
              "</div>"
            ],
            "text/plain": [
              "                           Metric      Value\n",
              "0       Mean Absolute Error (MAE)   4.151914\n",
              "1        Mean Squared Error (MSE)  27.628321\n",
              "2  Root Mean Squared Error (RMSE)   5.256265\n",
              "3                  R-squared (R²)   0.889329"
            ]
          },
          "execution_count": 37,
          "metadata": {},
          "output_type": "execute_result"
        }
      ],
      "source": [
        "rf_model_performance"
      ]
    },
    {
      "cell_type": "markdown",
      "metadata": {
        "id": "v24CDSUFDcEl"
      },
      "source": [
        "### Feature Importance"
      ]
    },
    {
      "cell_type": "code",
      "execution_count": 38,
      "metadata": {
        "id": "HY_9Y3q-DcEl"
      },
      "outputs": [],
      "source": [
        "feature_names = X.columns\n",
        "feature_importance_rf = best_rf.feature_importances_  # Extract feature importances\n",
        "\n",
        "# Create a DataFrame for visualization\n",
        "rf_importance_df = pd.DataFrame({\"Indicators\": feature_names, \"Importance\": feature_importance_rf})\n",
        "\n",
        "# Sort by importance (descending order)\n",
        "rf_importance_df = rf_importance_df.sort_values(by=\"Importance\", ascending=False)"
      ]
    },
    {
      "cell_type": "code",
      "execution_count": 39,
      "metadata": {
        "id": "V3kSZBshDcEm"
      },
      "outputs": [
        {
          "data": {
            "text/html": [
              "<div>\n",
              "<style scoped>\n",
              "    .dataframe tbody tr th:only-of-type {\n",
              "        vertical-align: middle;\n",
              "    }\n",
              "\n",
              "    .dataframe tbody tr th {\n",
              "        vertical-align: top;\n",
              "    }\n",
              "\n",
              "    .dataframe thead th {\n",
              "        text-align: right;\n",
              "    }\n",
              "</style>\n",
              "<table border=\"1\" class=\"dataframe\">\n",
              "  <thead>\n",
              "    <tr style=\"text-align: right;\">\n",
              "      <th></th>\n",
              "      <th>Indicators</th>\n",
              "      <th>Importance</th>\n",
              "    </tr>\n",
              "  </thead>\n",
              "  <tbody>\n",
              "    <tr>\n",
              "      <th>17</th>\n",
              "      <td>GERD performed by business, % GDP</td>\n",
              "      <td>0.428848</td>\n",
              "    </tr>\n",
              "    <tr>\n",
              "      <th>50</th>\n",
              "      <td>Patent families/bn PPP$ GDP</td>\n",
              "      <td>0.077552</td>\n",
              "    </tr>\n",
              "    <tr>\n",
              "      <th>21</th>\n",
              "      <td>Government effectiveness*</td>\n",
              "      <td>0.046727</td>\n",
              "    </tr>\n",
              "    <tr>\n",
              "      <th>26</th>\n",
              "      <td>Gross expenditure on R&amp;D, % GDP</td>\n",
              "      <td>0.043351</td>\n",
              "    </tr>\n",
              "    <tr>\n",
              "      <th>42</th>\n",
              "      <td>Logistics performance*</td>\n",
              "      <td>0.040032</td>\n",
              "    </tr>\n",
              "    <tr>\n",
              "      <th>...</th>\n",
              "      <td>...</td>\n",
              "      <td>...</td>\n",
              "    </tr>\n",
              "    <tr>\n",
              "      <th>55</th>\n",
              "      <td>Pupil–teacher ratio, secondary</td>\n",
              "      <td>0.000288</td>\n",
              "    </tr>\n",
              "    <tr>\n",
              "      <th>6</th>\n",
              "      <td>Domestic market scale, bn PPP$</td>\n",
              "      <td>0.000274</td>\n",
              "    </tr>\n",
              "    <tr>\n",
              "      <th>69</th>\n",
              "      <td>Unicorn valuation, % GDP</td>\n",
              "      <td>0.000202</td>\n",
              "    </tr>\n",
              "    <tr>\n",
              "      <th>0</th>\n",
              "      <td>Applied tariff rate, weighted avg., %</td>\n",
              "      <td>0.000200</td>\n",
              "    </tr>\n",
              "    <tr>\n",
              "      <th>71</th>\n",
              "      <td>Utility models by origin/bn PPP$ GDP</td>\n",
              "      <td>0.000157</td>\n",
              "    </tr>\n",
              "  </tbody>\n",
              "</table>\n",
              "<p>75 rows × 2 columns</p>\n",
              "</div>"
            ],
            "text/plain": [
              "                               Indicators  Importance\n",
              "17      GERD performed by business, % GDP    0.428848\n",
              "50            Patent families/bn PPP$ GDP    0.077552\n",
              "21              Government effectiveness*    0.046727\n",
              "26        Gross expenditure on R&D, % GDP    0.043351\n",
              "42                 Logistics performance*    0.040032\n",
              "..                                    ...         ...\n",
              "55         Pupil–teacher ratio, secondary    0.000288\n",
              "6          Domestic market scale, bn PPP$    0.000274\n",
              "69               Unicorn valuation, % GDP    0.000202\n",
              "0   Applied tariff rate, weighted avg., %    0.000200\n",
              "71   Utility models by origin/bn PPP$ GDP    0.000157\n",
              "\n",
              "[75 rows x 2 columns]"
            ]
          },
          "execution_count": 39,
          "metadata": {},
          "output_type": "execute_result"
        }
      ],
      "source": [
        "rf_importance_df"
      ]
    },
    {
      "cell_type": "code",
      "execution_count": 40,
      "metadata": {
        "id": "Cx__2y3GDcEm"
      },
      "outputs": [
        {
          "data": {
            "image/png": "[encoded data removed]",
            "text/plain": [
              "<Figure size 1200x600 with 1 Axes>"
            ]
          },
          "metadata": {},
          "output_type": "display_data"
        }
      ],
      "source": [
        "plt.figure(figsize=(12, 6))\n",
        "plt.barh(rf_importance_df[\"Indicators\"][:10], rf_importance_df[\"Importance\"][:10], color='green')\n",
        "plt.xlabel(\"Importance (Feature Contribution)\")\n",
        "plt.ylabel(\"Indicators\")\n",
        "plt.title(\"Top 10 Feature Importances in Random Forest\")\n",
        "plt.gca().invert_yaxis()  # Invert to show highest importance at top\n",
        "plt.show()"
      ]
    },
    {
      "cell_type": "markdown",
      "metadata": {
        "id": "EUx6N9upDcEm"
      },
      "source": [
        "### Retrieve the Rank for Canada"
      ]
    },
    {
      "cell_type": "code",
      "execution_count": 41,
      "metadata": {
        "id": "z5DYiismDcEm"
      },
      "outputs": [
        {
          "name": "stdout",
          "output_type": "stream",
          "text": [
            "     ECONOMY_NAME                                    NAME      SCORE  RANK\n",
            "2785       Canada       GERD performed by business, % GDP  24.241412  21.0\n",
            "2793       Canada             Patent families/bn PPP$ GDP  27.314860  20.0\n",
            "2730       Canada               Government effectiveness*  84.910537  11.0\n",
            "2750       Canada         Gross expenditure on R&D, % GDP  28.315171  21.0\n",
            "2761       Canada                  Logistics performance*  86.363636   7.0\n",
            "2749       Canada                Researchers, FTE/mn pop.  54.559640  16.0\n",
            "2831       Canada  Top-level domains (TLDs)/th pop. 15–69  51.724314  11.0\n",
            "2745       Canada             Tertiary enrolment, % gross  50.387452  27.0\n",
            "2733       Canada                            Rule of law*  88.753639  12.0\n",
            "2741       Canada           School life expectancy, years  66.362904  38.0\n"
          ]
        }
      ],
      "source": [
        "# Ensure most_important_feature is in a list format\n",
        "top_10_features = rf_importance_df[\"Indicators\"][:10].tolist()\n",
        "\n",
        "# Filter df to get the row where NAME matches the most important features\n",
        "feature_ranking_df = df[df[\"NAME\"].isin(top_10_features)][[\"ECONOMY_NAME\", \"NAME\", \"SCORE\", \"RANK\"]]\n",
        "\n",
        "# Get Canada's rank\n",
        "canada_rank = feature_ranking_df[feature_ranking_df[\"ECONOMY_NAME\"] == \"Canada\"].copy()  # Explicit copy to avoid warning\n",
        "canada_rank[\"NAME\"] = pd.Categorical(canada_rank[\"NAME\"], categories=top_10_features, ordered=True)\n",
        "canada_rank = canada_rank.sort_values(by=\"NAME\")\n",
        "\n",
        "# Display results\n",
        "pd.set_option('display.width', 400)\n",
        "print(canada_rank)"
      ]
    },
    {
      "cell_type": "markdown",
      "metadata": {
        "id": "3a689_oUDcEm"
      },
      "source": [
        "## XGBoost"
      ]
    },
    {
      "cell_type": "markdown",
      "metadata": {
        "id": "dyYyIVUiDcEm"
      },
      "source": [
        "### Train the Model"
      ]
    },
    {
      "cell_type": "code",
      "execution_count": 42,
      "metadata": {
        "id": "d1BVZpShDcEm"
      },
      "outputs": [
        {
          "name": "stdout",
          "output_type": "stream",
          "text": [
            "Best Hyperparameters: {'colsample_bytree': 1.0, 'learning_rate': 0.1, 'max_depth': 3, 'n_estimators': 200, 'subsample': 0.8}\n"
          ]
        }
      ],
      "source": [
        "# Define the hyperparameter grid\n",
        "param_grid = {\n",
        "    \"n_estimators\": [50, 100, 200],  # Number of boosting rounds (trees)\n",
        "    \"learning_rate\": [0.01, 0.1, 0.2],  # Step size shrinkage\n",
        "    \"max_depth\": [3, 5, 7],  # Maximum depth of trees\n",
        "    \"subsample\": [0.8, 1.0],  # Fraction of data used per boosting round\n",
        "    \"colsample_bytree\": [0.8, 1.0]  # Fraction of features used per tree\n",
        "}\n",
        "\n",
        "# Initialize XGBoost model\n",
        "xgb = XGBRegressor(objective=\"reg:squarederror\", random_state=42)\n",
        "\n",
        "# Use GridSearchCV to find the best parameters\n",
        "grid_search = GridSearchCV(xgb, param_grid, cv=5, scoring=\"r2\", n_jobs=-1)\n",
        "grid_search.fit(X_train, y_train)\n",
        "\n",
        "# Get the best parameters\n",
        "best_params = grid_search.best_params_\n",
        "print(f\"Best Hyperparameters: {best_params}\")\n",
        "\n",
        "# Train the best XGBoost model\n",
        "best_xgb = XGBRegressor(**best_params, objective=\"reg:squarederror\", random_state=42)\n",
        "best_xgb.fit(X_train, y_train)\n",
        "\n",
        "# Make predictions\n",
        "y_pred_xgb = best_xgb.predict(X_test)\n",
        "\n",
        "# Evaluate the final model\n",
        "mae_xgb = mean_absolute_error(y_test, y_pred_xgb)\n",
        "mse_xgb = mean_squared_error(y_test, y_pred_xgb)\n",
        "rmse_xgb = np.sqrt(mse_xgb)  # Root Mean Squared Error\n",
        "r2_xgb = r2_score(y_test, y_pred_xgb)\n",
        "\n",
        "# Display results\n",
        "xgb_model_performance = pd.DataFrame({\n",
        "    \"Metric\": [\"Mean Absolute Error (MAE)\", \"Mean Squared Error (MSE)\", \"Root Mean Squared Error (RMSE)\", \"R-squared (R²)\"],\n",
        "    \"Value\": [mae_xgb, mse_xgb, rmse_xgb, r2_xgb]\n",
        "})"
      ]
    },
    {
      "cell_type": "code",
      "execution_count": 43,
      "metadata": {
        "id": "4_zL3On8DcEm"
      },
      "outputs": [
        {
          "data": {
            "text/html": [
              "<div>\n",
              "<style scoped>\n",
              "    .dataframe tbody tr th:only-of-type {\n",
              "        vertical-align: middle;\n",
              "    }\n",
              "\n",
              "    .dataframe tbody tr th {\n",
              "        vertical-align: top;\n",
              "    }\n",
              "\n",
              "    .dataframe thead th {\n",
              "        text-align: right;\n",
              "    }\n",
              "</style>\n",
              "<table border=\"1\" class=\"dataframe\">\n",
              "  <thead>\n",
              "    <tr style=\"text-align: right;\">\n",
              "      <th></th>\n",
              "      <th>Metric</th>\n",
              "      <th>Value</th>\n",
              "    </tr>\n",
              "  </thead>\n",
              "  <tbody>\n",
              "    <tr>\n",
              "      <th>0</th>\n",
              "      <td>Mean Absolute Error (MAE)</td>\n",
              "      <td>3.217848</td>\n",
              "    </tr>\n",
              "    <tr>\n",
              "      <th>1</th>\n",
              "      <td>Mean Squared Error (MSE)</td>\n",
              "      <td>15.402067</td>\n",
              "    </tr>\n",
              "    <tr>\n",
              "      <th>2</th>\n",
              "      <td>Root Mean Squared Error (RMSE)</td>\n",
              "      <td>3.924547</td>\n",
              "    </tr>\n",
              "    <tr>\n",
              "      <th>3</th>\n",
              "      <td>R-squared (R²)</td>\n",
              "      <td>0.938304</td>\n",
              "    </tr>\n",
              "  </tbody>\n",
              "</table>\n",
              "</div>"
            ],
            "text/plain": [
              "                           Metric      Value\n",
              "0       Mean Absolute Error (MAE)   3.217848\n",
              "1        Mean Squared Error (MSE)  15.402067\n",
              "2  Root Mean Squared Error (RMSE)   3.924547\n",
              "3                  R-squared (R²)   0.938304"
            ]
          },
          "execution_count": 43,
          "metadata": {},
          "output_type": "execute_result"
        }
      ],
      "source": [
        "xgb_model_performance"
      ]
    },
    {
      "cell_type": "markdown",
      "metadata": {
        "id": "L-f4tAkmDcEm"
      },
      "source": [
        "### Feature Importance"
      ]
    },
    {
      "cell_type": "code",
      "execution_count": 44,
      "metadata": {
        "id": "_k07guqnDcEm"
      },
      "outputs": [],
      "source": [
        "# Extract feature importance from the best XGBoost model\n",
        "feature_names = X.columns\n",
        "feature_importance_xgb = best_xgb.feature_importances_  # Extract feature importances\n",
        "\n",
        "# Create a DataFrame for visualization\n",
        "xgb_importance_df = pd.DataFrame({\"Indicators\": feature_names, \"Importance\": feature_importance_xgb})\n",
        "\n",
        "# Sort by importance (descending order)\n",
        "xgb_importance_df = xgb_importance_df.sort_values(by=\"Importance\", ascending=False)"
      ]
    },
    {
      "cell_type": "code",
      "execution_count": 45,
      "metadata": {
        "id": "j4Rej4CrDcEm"
      },
      "outputs": [
        {
          "data": {
            "text/html": [
              "<div>\n",
              "<style scoped>\n",
              "    .dataframe tbody tr th:only-of-type {\n",
              "        vertical-align: middle;\n",
              "    }\n",
              "\n",
              "    .dataframe tbody tr th {\n",
              "        vertical-align: top;\n",
              "    }\n",
              "\n",
              "    .dataframe thead th {\n",
              "        text-align: right;\n",
              "    }\n",
              "</style>\n",
              "<table border=\"1\" class=\"dataframe\">\n",
              "  <thead>\n",
              "    <tr style=\"text-align: right;\">\n",
              "      <th></th>\n",
              "      <th>Indicators</th>\n",
              "      <th>Importance</th>\n",
              "    </tr>\n",
              "  </thead>\n",
              "  <tbody>\n",
              "    <tr>\n",
              "      <th>17</th>\n",
              "      <td>GERD performed by business, % GDP</td>\n",
              "      <td>0.251262</td>\n",
              "    </tr>\n",
              "    <tr>\n",
              "      <th>42</th>\n",
              "      <td>Logistics performance*</td>\n",
              "      <td>0.171098</td>\n",
              "    </tr>\n",
              "    <tr>\n",
              "      <th>61</th>\n",
              "      <td>School life expectancy, years</td>\n",
              "      <td>0.087932</td>\n",
              "    </tr>\n",
              "    <tr>\n",
              "      <th>50</th>\n",
              "      <td>Patent families/bn PPP$ GDP</td>\n",
              "      <td>0.087540</td>\n",
              "    </tr>\n",
              "    <tr>\n",
              "      <th>60</th>\n",
              "      <td>Rule of law*</td>\n",
              "      <td>0.064050</td>\n",
              "    </tr>\n",
              "    <tr>\n",
              "      <th>...</th>\n",
              "      <td>...</td>\n",
              "      <td>...</td>\n",
              "    </tr>\n",
              "    <tr>\n",
              "      <th>66</th>\n",
              "      <td>Tertiary inbound mobility, %</td>\n",
              "      <td>0.000025</td>\n",
              "    </tr>\n",
              "    <tr>\n",
              "      <th>43</th>\n",
              "      <td>Low-carbon energy use, %</td>\n",
              "      <td>0.000024</td>\n",
              "    </tr>\n",
              "    <tr>\n",
              "      <th>34</th>\n",
              "      <td>ISO 14001 environment/bn PPP$ GDP</td>\n",
              "      <td>0.000017</td>\n",
              "    </tr>\n",
              "    <tr>\n",
              "      <th>6</th>\n",
              "      <td>Domestic market scale, bn PPP$</td>\n",
              "      <td>0.000004</td>\n",
              "    </tr>\n",
              "    <tr>\n",
              "      <th>14</th>\n",
              "      <td>Firms offering formal training, %</td>\n",
              "      <td>0.000003</td>\n",
              "    </tr>\n",
              "  </tbody>\n",
              "</table>\n",
              "<p>75 rows × 2 columns</p>\n",
              "</div>"
            ],
            "text/plain": [
              "                           Indicators  Importance\n",
              "17  GERD performed by business, % GDP    0.251262\n",
              "42             Logistics performance*    0.171098\n",
              "61      School life expectancy, years    0.087932\n",
              "50        Patent families/bn PPP$ GDP    0.087540\n",
              "60                       Rule of law*    0.064050\n",
              "..                                ...         ...\n",
              "66       Tertiary inbound mobility, %    0.000025\n",
              "43           Low-carbon energy use, %    0.000024\n",
              "34  ISO 14001 environment/bn PPP$ GDP    0.000017\n",
              "6      Domestic market scale, bn PPP$    0.000004\n",
              "14  Firms offering formal training, %    0.000003\n",
              "\n",
              "[75 rows x 2 columns]"
            ]
          },
          "execution_count": 45,
          "metadata": {},
          "output_type": "execute_result"
        }
      ],
      "source": [
        "xgb_importance_df"
      ]
    },
    {
      "cell_type": "code",
      "execution_count": 46,
      "metadata": {
        "id": "P6-ZcTbaDcEm"
      },
      "outputs": [
        {
          "data": {
            "image/png": "[encoded data removed]",
            "text/plain": [
              "<Figure size 1200x600 with 1 Axes>"
            ]
          },
          "metadata": {},
          "output_type": "display_data"
        }
      ],
      "source": [
        "\n",
        "plt.figure(figsize=(12, 6))\n",
        "plt.barh(xgb_importance_df[\"Indicators\"][:10], xgb_importance_df[\"Importance\"][:10], color='red')\n",
        "plt.xlabel(\"Importance (Feature Contribution)\")\n",
        "plt.ylabel(\"Indicators\")\n",
        "plt.title(\"Top 10 Feature Importances in XGBoost\")\n",
        "plt.gca().invert_yaxis()  # Invert to show highest importance at top\n",
        "plt.show()"
      ]
    },
    {
      "cell_type": "markdown",
      "metadata": {
        "id": "sDaf9AeKDcEm"
      },
      "source": [
        "### Retrieve the Rank for Canada"
      ]
    },
    {
      "cell_type": "code",
      "execution_count": 47,
      "metadata": {
        "id": "RiqZ8WRkDcEm"
      },
      "outputs": [
        {
          "name": "stdout",
          "output_type": "stream",
          "text": [
            "     ECONOMY_NAME                                           NAME      SCORE  RANK\n",
            "2785       Canada              GERD performed by business, % GDP  24.241412  21.0\n",
            "2761       Canada                         Logistics performance*  86.363636   7.0\n",
            "2741       Canada                  School life expectancy, years  66.362904  38.0\n",
            "2793       Canada                    Patent families/bn PPP$ GDP  27.314860  20.0\n",
            "2733       Canada                                   Rule of law*  88.753639  12.0\n",
            "2750       Canada                Gross expenditure on R&D, % GDP  28.315171  21.0\n",
            "2745       Canada                    Tertiary enrolment, % gross  50.387452  27.0\n",
            "2814       Canada  Intellectual property receipts, % total trade  39.161818  17.0\n",
            "2751       Canada  Global corporate R&D investors, top 3, mn USD  66.759051  17.0\n",
            "2730       Canada                      Government effectiveness*  84.910537  11.0\n"
          ]
        }
      ],
      "source": [
        "# Ensure most_important_feature is in a list format\n",
        "top_10_features = xgb_importance_df[\"Indicators\"][:10].tolist()\n",
        "\n",
        "# Filter df to get the row where NAME matches the most important features\n",
        "feature_ranking_df = df[df[\"NAME\"].isin(top_10_features)][[\"ECONOMY_NAME\", \"NAME\", \"SCORE\", \"RANK\"]]\n",
        "\n",
        "# Get Canada's rank\n",
        "canada_rank = feature_ranking_df[feature_ranking_df[\"ECONOMY_NAME\"] == \"Canada\"].copy()  # Explicit copy to avoid warning\n",
        "canada_rank[\"NAME\"] = pd.Categorical(canada_rank[\"NAME\"], categories=top_10_features, ordered=True)\n",
        "canada_rank = canada_rank.sort_values(by=\"NAME\")\n",
        "\n",
        "# Display results\n",
        "pd.set_option('display.width', 400)\n",
        "print(canada_rank)"
      ]
    },
    {
      "cell_type": "markdown",
      "metadata": {
        "id": "20Ac_m0jDcEm"
      },
      "source": [
        "## Comparison"
      ]
    },
    {
      "cell_type": "code",
      "execution_count": 48,
      "metadata": {
        "id": "1bI_RdnQDcEm"
      },
      "outputs": [],
      "source": [
        "# Ensure each model performance DataFrame has a \"Model\" column for identification\n",
        "model_performance_LR[\"Model\"] = \"Linear Regression\"\n",
        "model_performance_LASSO[\"Model\"] = \"Lasso Regression\"\n",
        "rf_model_performance[\"Model\"] = \"Random Forest\"\n",
        "xgb_model_performance[\"Model\"] = \"XGBoost\"\n",
        "\n",
        "# Combine all model performances into a single DataFrame\n",
        "model_comparison = pd.concat(\n",
        "    [model_performance_LR, model_performance_LASSO, rf_model_performance, xgb_model_performance],\n",
        "    axis=0\n",
        ")\n",
        "\n",
        "# Pivot the DataFrame to have models as row names and metrics as columns\n",
        "model_comparison = model_comparison.pivot(index=\"Model\", columns=\"Metric\", values=\"Value\")"
      ]
    },
    {
      "cell_type": "code",
      "execution_count": 49,
      "metadata": {
        "id": "DKc44-wfDcEn"
      },
      "outputs": [
        {
          "data": {
            "text/html": [
              "<div>\n",
              "<style scoped>\n",
              "    .dataframe tbody tr th:only-of-type {\n",
              "        vertical-align: middle;\n",
              "    }\n",
              "\n",
              "    .dataframe tbody tr th {\n",
              "        vertical-align: top;\n",
              "    }\n",
              "\n",
              "    .dataframe thead th {\n",
              "        text-align: right;\n",
              "    }\n",
              "</style>\n",
              "<table border=\"1\" class=\"dataframe\">\n",
              "  <thead>\n",
              "    <tr style=\"text-align: right;\">\n",
              "      <th>Metric</th>\n",
              "      <th>Mean Absolute Error (MAE)</th>\n",
              "      <th>Mean Squared Error (MSE)</th>\n",
              "      <th>R-squared (R²)</th>\n",
              "      <th>Root Mean Squared Error (RMSE)</th>\n",
              "    </tr>\n",
              "    <tr>\n",
              "      <th>Model</th>\n",
              "      <th></th>\n",
              "      <th></th>\n",
              "      <th></th>\n",
              "      <th></th>\n",
              "    </tr>\n",
              "  </thead>\n",
              "  <tbody>\n",
              "    <tr>\n",
              "      <th>Lasso Regression</th>\n",
              "      <td>1.319576</td>\n",
              "      <td>2.860244</td>\n",
              "      <td>0.988543</td>\n",
              "      <td>1.691226</td>\n",
              "    </tr>\n",
              "    <tr>\n",
              "      <th>Linear Regression</th>\n",
              "      <td>2.192305</td>\n",
              "      <td>8.479483</td>\n",
              "      <td>0.966034</td>\n",
              "      <td>2.911955</td>\n",
              "    </tr>\n",
              "    <tr>\n",
              "      <th>Random Forest</th>\n",
              "      <td>4.151914</td>\n",
              "      <td>27.628321</td>\n",
              "      <td>0.889329</td>\n",
              "      <td>5.256265</td>\n",
              "    </tr>\n",
              "    <tr>\n",
              "      <th>XGBoost</th>\n",
              "      <td>3.217848</td>\n",
              "      <td>15.402067</td>\n",
              "      <td>0.938304</td>\n",
              "      <td>3.924547</td>\n",
              "    </tr>\n",
              "  </tbody>\n",
              "</table>\n",
              "</div>"
            ],
            "text/plain": [
              "Metric             Mean Absolute Error (MAE)  Mean Squared Error (MSE)  R-squared (R²)  Root Mean Squared Error (RMSE)\n",
              "Model                                                                                                                 \n",
              "Lasso Regression                    1.319576                  2.860244        0.988543                        1.691226\n",
              "Linear Regression                   2.192305                  8.479483        0.966034                        2.911955\n",
              "Random Forest                       4.151914                 27.628321        0.889329                        5.256265\n",
              "XGBoost                             3.217848                 15.402067        0.938304                        3.924547"
            ]
          },
          "execution_count": 49,
          "metadata": {},
          "output_type": "execute_result"
        }
      ],
      "source": [
        "model_comparison"
      ]
    },
    {
      "cell_type": "markdown",
      "metadata": {},
      "source": [
        "As Lasso regression has the highest R square and lowest RMSE, we will choose Lasso regression as our final model. The best alpha is 0.7742636826811278."
      ]
    },
    {
      "cell_type": "markdown",
      "metadata": {},
      "source": [
        "## Test set"
      ]
    },
    {
      "cell_type": "code",
      "execution_count": 50,
      "metadata": {},
      "outputs": [
        {
          "data": {
            "text/html": [
              "<div>\n",
              "<style scoped>\n",
              "    .dataframe tbody tr th:only-of-type {\n",
              "        vertical-align: middle;\n",
              "    }\n",
              "\n",
              "    .dataframe tbody tr th {\n",
              "        vertical-align: top;\n",
              "    }\n",
              "\n",
              "    .dataframe thead th {\n",
              "        text-align: right;\n",
              "    }\n",
              "</style>\n",
              "<table border=\"1\" class=\"dataframe\">\n",
              "  <thead>\n",
              "    <tr style=\"text-align: right;\">\n",
              "      <th></th>\n",
              "      <th>Metric</th>\n",
              "      <th>Value</th>\n",
              "    </tr>\n",
              "  </thead>\n",
              "  <tbody>\n",
              "    <tr>\n",
              "      <th>0</th>\n",
              "      <td>Mean Absolute Error (MAE)</td>\n",
              "      <td>1.319576</td>\n",
              "    </tr>\n",
              "    <tr>\n",
              "      <th>1</th>\n",
              "      <td>Mean Squared Error (MSE)</td>\n",
              "      <td>2.860244</td>\n",
              "    </tr>\n",
              "    <tr>\n",
              "      <th>2</th>\n",
              "      <td>Root Mean Squared Error (RMSE)</td>\n",
              "      <td>1.691226</td>\n",
              "    </tr>\n",
              "    <tr>\n",
              "      <th>3</th>\n",
              "      <td>R-squared (R²)</td>\n",
              "      <td>0.988543</td>\n",
              "    </tr>\n",
              "  </tbody>\n",
              "</table>\n",
              "</div>"
            ],
            "text/plain": [
              "                           Metric     Value\n",
              "0       Mean Absolute Error (MAE)  1.319576\n",
              "1        Mean Squared Error (MSE)  2.860244\n",
              "2  Root Mean Squared Error (RMSE)  1.691226\n",
              "3                  R-squared (R²)  0.988543"
            ]
          },
          "execution_count": 50,
          "metadata": {},
          "output_type": "execute_result"
        }
      ],
      "source": [
        "# Run the test set using lasso regression\n",
        "# Make predictions using the Lasso model\n",
        "y_pred_lasso = best_lasso.predict(X_test)\n",
        "\n",
        "# Evaluate the Lasso model performance\n",
        "mae_lasso_test = mean_absolute_error(y_test, y_pred_lasso)\n",
        "mse_lasso_test = mean_squared_error(y_test, y_pred_lasso)\n",
        "rmse_lasso_test = np.sqrt(mse_lasso_test)\n",
        "r2_lasso_test = r2_score(y_test, y_pred_lasso)\n",
        "\n",
        "# Display Lasso model performance on the test set\n",
        "model_performance_lasso_test = pd.DataFrame({\n",
        "    \"Metric\": [\"Mean Absolute Error (MAE)\", \"Mean Squared Error (MSE)\", \"Root Mean Squared Error (RMSE)\", \"R-squared (R²)\"],\n",
        "    \"Value\": [mae_lasso_test, mse_lasso_test, rmse_lasso_test, r2_lasso_test]\n",
        "})\n",
        "\n",
        "model_performance_lasso_test"
      ]
    }
  ],
  "metadata": {
    "colab": {
      "provenance": []
    },
    "kernelspec": {
      "display_name": "Pythonnew",
      "language": "python",
      "name": "python3"
    },
    "language_info": {
      "codemirror_mode": {
        "name": "ipython",
        "version": 3
      },
      "file_extension": ".py",
      "mimetype": "text/x-python",
      "name": "python",
      "nbconvert_exporter": "python",
      "pygments_lexer": "ipython3",
      "version": "3.11.10"
    }
  },
  "nbformat": 4,
  "nbformat_minor": 0
}
